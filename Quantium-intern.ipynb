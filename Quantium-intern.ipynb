{
 "cells": [
  {
   "cell_type": "code",
   "execution_count": 863,
   "id": "f8ba91b3-dcea-4848-9548-610c7f51ecae",
   "metadata": {
    "tags": []
   },
   "outputs": [],
   "source": [
    "import pandas as pd\n",
    "import warnings\n",
    "import numpy as np\n",
    "import plotly.figure_factory as ff\n",
    "import plotly.express as px\n",
    "import plotly.graph_objects as go\n",
    "import seaborn as sns\n",
    "from sklearn.ensemble import IsolationForest\n",
    "from scipy.stats import ttest_ind\n",
    "import matplotlib.pyplot as plt"
   ]
  },
  {
   "cell_type": "markdown",
   "id": "5963f947-80a2-4ae8-a4ea-ae5f2fa5af0a",
   "metadata": {
    "tags": []
   },
   "source": [
    "#### Quantium Virtual Internship - Retail Strategy and Analytics - Task 1"
   ]
  },
  {
   "cell_type": "code",
   "execution_count": 376,
   "id": "bba7b688-43fd-41a4-8fb6-68b17fc1fe0b",
   "metadata": {
    "tags": []
   },
   "outputs": [],
   "source": [
    "# Loading our data\n",
    "purchases_behaviour = pd.read_csv(\"datasets/QVI_purchase_behaviour.csv\")\n",
    "transactions_data = pd.read_csv(\"datasets/QVI_transaction_data.csv\")"
   ]
  },
  {
   "cell_type": "code",
   "execution_count": 377,
   "id": "474e4871-250d-4c31-913b-20b160b85b8d",
   "metadata": {
    "tags": []
   },
   "outputs": [
    {
     "data": {
      "text/html": [
       "<div>\n",
       "<style scoped>\n",
       "    .dataframe tbody tr th:only-of-type {\n",
       "        vertical-align: middle;\n",
       "    }\n",
       "\n",
       "    .dataframe tbody tr th {\n",
       "        vertical-align: top;\n",
       "    }\n",
       "\n",
       "    .dataframe thead th {\n",
       "        text-align: right;\n",
       "    }\n",
       "</style>\n",
       "<table border=\"1\" class=\"dataframe\">\n",
       "  <thead>\n",
       "    <tr style=\"text-align: right;\">\n",
       "      <th></th>\n",
       "      <th>LYLTY_CARD_NBR</th>\n",
       "      <th>LIFESTAGE</th>\n",
       "      <th>PREMIUM_CUSTOMER</th>\n",
       "    </tr>\n",
       "  </thead>\n",
       "  <tbody>\n",
       "    <tr>\n",
       "      <th>0</th>\n",
       "      <td>1000</td>\n",
       "      <td>YOUNG SINGLES/COUPLES</td>\n",
       "      <td>Premium</td>\n",
       "    </tr>\n",
       "    <tr>\n",
       "      <th>1</th>\n",
       "      <td>1002</td>\n",
       "      <td>YOUNG SINGLES/COUPLES</td>\n",
       "      <td>Mainstream</td>\n",
       "    </tr>\n",
       "    <tr>\n",
       "      <th>2</th>\n",
       "      <td>1003</td>\n",
       "      <td>YOUNG FAMILIES</td>\n",
       "      <td>Budget</td>\n",
       "    </tr>\n",
       "    <tr>\n",
       "      <th>3</th>\n",
       "      <td>1004</td>\n",
       "      <td>OLDER SINGLES/COUPLES</td>\n",
       "      <td>Mainstream</td>\n",
       "    </tr>\n",
       "    <tr>\n",
       "      <th>4</th>\n",
       "      <td>1005</td>\n",
       "      <td>MIDAGE SINGLES/COUPLES</td>\n",
       "      <td>Mainstream</td>\n",
       "    </tr>\n",
       "  </tbody>\n",
       "</table>\n",
       "</div>"
      ],
      "text/plain": [
       "   LYLTY_CARD_NBR               LIFESTAGE PREMIUM_CUSTOMER\n",
       "0            1000   YOUNG SINGLES/COUPLES          Premium\n",
       "1            1002   YOUNG SINGLES/COUPLES       Mainstream\n",
       "2            1003          YOUNG FAMILIES           Budget\n",
       "3            1004   OLDER SINGLES/COUPLES       Mainstream\n",
       "4            1005  MIDAGE SINGLES/COUPLES       Mainstream"
      ]
     },
     "execution_count": 377,
     "metadata": {},
     "output_type": "execute_result"
    }
   ],
   "source": [
    "purchases_behaviour.head(5)"
   ]
  },
  {
   "cell_type": "code",
   "execution_count": 378,
   "id": "15742772-84bc-41a7-9d48-a3bab1c326ea",
   "metadata": {
    "tags": []
   },
   "outputs": [
    {
     "data": {
      "text/html": [
       "<div>\n",
       "<style scoped>\n",
       "    .dataframe tbody tr th:only-of-type {\n",
       "        vertical-align: middle;\n",
       "    }\n",
       "\n",
       "    .dataframe tbody tr th {\n",
       "        vertical-align: top;\n",
       "    }\n",
       "\n",
       "    .dataframe thead th {\n",
       "        text-align: right;\n",
       "    }\n",
       "</style>\n",
       "<table border=\"1\" class=\"dataframe\">\n",
       "  <thead>\n",
       "    <tr style=\"text-align: right;\">\n",
       "      <th></th>\n",
       "      <th>DATE</th>\n",
       "      <th>STORE_NBR</th>\n",
       "      <th>LYLTY_CARD_NBR</th>\n",
       "      <th>TXN_ID</th>\n",
       "      <th>PROD_NBR</th>\n",
       "      <th>PROD_NAME</th>\n",
       "      <th>PROD_QTY</th>\n",
       "      <th>TOT_SALES</th>\n",
       "    </tr>\n",
       "  </thead>\n",
       "  <tbody>\n",
       "    <tr>\n",
       "      <th>0</th>\n",
       "      <td>43390</td>\n",
       "      <td>1</td>\n",
       "      <td>1000</td>\n",
       "      <td>1</td>\n",
       "      <td>5</td>\n",
       "      <td>Natural Chip        Compny SeaSalt175g</td>\n",
       "      <td>2</td>\n",
       "      <td>6.0</td>\n",
       "    </tr>\n",
       "    <tr>\n",
       "      <th>1</th>\n",
       "      <td>43599</td>\n",
       "      <td>1</td>\n",
       "      <td>1307</td>\n",
       "      <td>348</td>\n",
       "      <td>66</td>\n",
       "      <td>CCs Nacho Cheese    175g</td>\n",
       "      <td>3</td>\n",
       "      <td>6.3</td>\n",
       "    </tr>\n",
       "    <tr>\n",
       "      <th>2</th>\n",
       "      <td>43605</td>\n",
       "      <td>1</td>\n",
       "      <td>1343</td>\n",
       "      <td>383</td>\n",
       "      <td>61</td>\n",
       "      <td>Smiths Crinkle Cut  Chips Chicken 170g</td>\n",
       "      <td>2</td>\n",
       "      <td>2.9</td>\n",
       "    </tr>\n",
       "    <tr>\n",
       "      <th>3</th>\n",
       "      <td>43329</td>\n",
       "      <td>2</td>\n",
       "      <td>2373</td>\n",
       "      <td>974</td>\n",
       "      <td>69</td>\n",
       "      <td>Smiths Chip Thinly  S/Cream&amp;Onion 175g</td>\n",
       "      <td>5</td>\n",
       "      <td>15.0</td>\n",
       "    </tr>\n",
       "    <tr>\n",
       "      <th>4</th>\n",
       "      <td>43330</td>\n",
       "      <td>2</td>\n",
       "      <td>2426</td>\n",
       "      <td>1038</td>\n",
       "      <td>108</td>\n",
       "      <td>Kettle Tortilla ChpsHny&amp;Jlpno Chili 150g</td>\n",
       "      <td>3</td>\n",
       "      <td>13.8</td>\n",
       "    </tr>\n",
       "  </tbody>\n",
       "</table>\n",
       "</div>"
      ],
      "text/plain": [
       "    DATE  STORE_NBR  LYLTY_CARD_NBR  TXN_ID  PROD_NBR  \\\n",
       "0  43390          1            1000       1         5   \n",
       "1  43599          1            1307     348        66   \n",
       "2  43605          1            1343     383        61   \n",
       "3  43329          2            2373     974        69   \n",
       "4  43330          2            2426    1038       108   \n",
       "\n",
       "                                  PROD_NAME  PROD_QTY  TOT_SALES  \n",
       "0    Natural Chip        Compny SeaSalt175g         2        6.0  \n",
       "1                  CCs Nacho Cheese    175g         3        6.3  \n",
       "2    Smiths Crinkle Cut  Chips Chicken 170g         2        2.9  \n",
       "3    Smiths Chip Thinly  S/Cream&Onion 175g         5       15.0  \n",
       "4  Kettle Tortilla ChpsHny&Jlpno Chili 150g         3       13.8  "
      ]
     },
     "execution_count": 378,
     "metadata": {},
     "output_type": "execute_result"
    }
   ],
   "source": [
    "transactions_data.head(5)"
   ]
  },
  {
   "cell_type": "markdown",
   "id": "10f223e0-968d-40e5-9302-f8e7310b12c8",
   "metadata": {},
   "source": [
    "- Let's start with checking our datasets for missing or invalid values"
   ]
  },
  {
   "cell_type": "code",
   "execution_count": 379,
   "id": "faf79c96-908d-4410-b3c3-1bdfc9729829",
   "metadata": {
    "tags": []
   },
   "outputs": [
    {
     "data": {
      "text/plain": [
       "LYLTY_CARD_NBR      0\n",
       "LIFESTAGE           0\n",
       "PREMIUM_CUSTOMER    0\n",
       "dtype: int64"
      ]
     },
     "execution_count": 379,
     "metadata": {},
     "output_type": "execute_result"
    }
   ],
   "source": [
    "purchases_behaviour.isnull().sum()"
   ]
  },
  {
   "cell_type": "code",
   "execution_count": 380,
   "id": "d27fd2f4-6e60-4c0f-a70a-fd80c32f8bf4",
   "metadata": {
    "tags": []
   },
   "outputs": [
    {
     "data": {
      "text/plain": [
       "DATE              0\n",
       "STORE_NBR         0\n",
       "LYLTY_CARD_NBR    0\n",
       "TXN_ID            0\n",
       "PROD_NBR          0\n",
       "PROD_NAME         0\n",
       "PROD_QTY          0\n",
       "TOT_SALES         0\n",
       "dtype: int64"
      ]
     },
     "execution_count": 380,
     "metadata": {},
     "output_type": "execute_result"
    }
   ],
   "source": [
    "transactions_data.isnull().sum()"
   ]
  },
  {
   "cell_type": "markdown",
   "id": "d6dea4ad-06c9-4c39-a6e4-f7fc1fa59932",
   "metadata": {
    "tags": []
   },
   "source": [
    "Check outliers for two columns 'TOT_SALES' and 'PROD_QTY' let's focus on them"
   ]
  },
  {
   "cell_type": "markdown",
   "id": "be8c1b45-2a59-4989-9e43-fd57d598239e",
   "metadata": {
    "tags": []
   },
   "source": [
    "- Let's check datasets for outliers - Using Standard Deviation (Z-score Method)"
   ]
  },
  {
   "cell_type": "code",
   "execution_count": 381,
   "id": "579d439c-cb4e-4109-89c6-0c25d29eec2b",
   "metadata": {
    "tags": []
   },
   "outputs": [
    {
     "data": {
      "text/html": [
       "<div>\n",
       "<style scoped>\n",
       "    .dataframe tbody tr th:only-of-type {\n",
       "        vertical-align: middle;\n",
       "    }\n",
       "\n",
       "    .dataframe tbody tr th {\n",
       "        vertical-align: top;\n",
       "    }\n",
       "\n",
       "    .dataframe thead th {\n",
       "        text-align: right;\n",
       "    }\n",
       "</style>\n",
       "<table border=\"1\" class=\"dataframe\">\n",
       "  <thead>\n",
       "    <tr style=\"text-align: right;\">\n",
       "      <th></th>\n",
       "      <th>DATE</th>\n",
       "      <th>STORE_NBR</th>\n",
       "      <th>LYLTY_CARD_NBR</th>\n",
       "      <th>TXN_ID</th>\n",
       "      <th>PROD_NBR</th>\n",
       "      <th>PROD_NAME</th>\n",
       "      <th>PROD_QTY</th>\n",
       "      <th>TOT_SALES</th>\n",
       "    </tr>\n",
       "  </thead>\n",
       "  <tbody>\n",
       "    <tr>\n",
       "      <th>11</th>\n",
       "      <td>43332</td>\n",
       "      <td>8</td>\n",
       "      <td>8294</td>\n",
       "      <td>8221</td>\n",
       "      <td>114</td>\n",
       "      <td>Kettle Sensations   Siracha Lime 150g</td>\n",
       "      <td>5</td>\n",
       "      <td>23.0</td>\n",
       "    </tr>\n",
       "    <tr>\n",
       "      <th>72</th>\n",
       "      <td>43331</td>\n",
       "      <td>96</td>\n",
       "      <td>96203</td>\n",
       "      <td>96025</td>\n",
       "      <td>7</td>\n",
       "      <td>Smiths Crinkle      Original 330g</td>\n",
       "      <td>5</td>\n",
       "      <td>28.5</td>\n",
       "    </tr>\n",
       "    <tr>\n",
       "      <th>5107</th>\n",
       "      <td>43329</td>\n",
       "      <td>54</td>\n",
       "      <td>54225</td>\n",
       "      <td>48172</td>\n",
       "      <td>46</td>\n",
       "      <td>Kettle Original 175g</td>\n",
       "      <td>5</td>\n",
       "      <td>27.0</td>\n",
       "    </tr>\n",
       "    <tr>\n",
       "      <th>5109</th>\n",
       "      <td>43330</td>\n",
       "      <td>57</td>\n",
       "      <td>57122</td>\n",
       "      <td>51950</td>\n",
       "      <td>9</td>\n",
       "      <td>Kettle Tortilla ChpsBtroot&amp;Ricotta 150g</td>\n",
       "      <td>5</td>\n",
       "      <td>23.0</td>\n",
       "    </tr>\n",
       "    <tr>\n",
       "      <th>5160</th>\n",
       "      <td>43600</td>\n",
       "      <td>82</td>\n",
       "      <td>82189</td>\n",
       "      <td>81669</td>\n",
       "      <td>46</td>\n",
       "      <td>Kettle Original 175g</td>\n",
       "      <td>5</td>\n",
       "      <td>27.0</td>\n",
       "    </tr>\n",
       "    <tr>\n",
       "      <th>...</th>\n",
       "      <td>...</td>\n",
       "      <td>...</td>\n",
       "      <td>...</td>\n",
       "      <td>...</td>\n",
       "      <td>...</td>\n",
       "      <td>...</td>\n",
       "      <td>...</td>\n",
       "      <td>...</td>\n",
       "    </tr>\n",
       "    <tr>\n",
       "      <th>238331</th>\n",
       "      <td>43328</td>\n",
       "      <td>217</td>\n",
       "      <td>217089</td>\n",
       "      <td>216708</td>\n",
       "      <td>59</td>\n",
       "      <td>Old El Paso Salsa   Dip Tomato Med 300g</td>\n",
       "      <td>4</td>\n",
       "      <td>20.4</td>\n",
       "    </tr>\n",
       "    <tr>\n",
       "      <th>238372</th>\n",
       "      <td>43327</td>\n",
       "      <td>231</td>\n",
       "      <td>231205</td>\n",
       "      <td>234528</td>\n",
       "      <td>88</td>\n",
       "      <td>Kettle Honey Soy    Chicken 175g</td>\n",
       "      <td>4</td>\n",
       "      <td>21.6</td>\n",
       "    </tr>\n",
       "    <tr>\n",
       "      <th>238395</th>\n",
       "      <td>43604</td>\n",
       "      <td>238</td>\n",
       "      <td>238250</td>\n",
       "      <td>242874</td>\n",
       "      <td>88</td>\n",
       "      <td>Kettle Honey Soy    Chicken 175g</td>\n",
       "      <td>5</td>\n",
       "      <td>27.0</td>\n",
       "    </tr>\n",
       "    <tr>\n",
       "      <th>238490</th>\n",
       "      <td>43331</td>\n",
       "      <td>272</td>\n",
       "      <td>272037</td>\n",
       "      <td>269678</td>\n",
       "      <td>46</td>\n",
       "      <td>Kettle Original 175g</td>\n",
       "      <td>4</td>\n",
       "      <td>21.6</td>\n",
       "    </tr>\n",
       "    <tr>\n",
       "      <th>258715</th>\n",
       "      <td>43328</td>\n",
       "      <td>194</td>\n",
       "      <td>194381</td>\n",
       "      <td>194835</td>\n",
       "      <td>102</td>\n",
       "      <td>Kettle Mozzarella   Basil &amp; Pesto 175g</td>\n",
       "      <td>4</td>\n",
       "      <td>21.6</td>\n",
       "    </tr>\n",
       "  </tbody>\n",
       "</table>\n",
       "<p>228 rows × 8 columns</p>\n",
       "</div>"
      ],
      "text/plain": [
       "         DATE  STORE_NBR  LYLTY_CARD_NBR  TXN_ID  PROD_NBR  \\\n",
       "11      43332          8            8294    8221       114   \n",
       "72      43331         96           96203   96025         7   \n",
       "5107    43329         54           54225   48172        46   \n",
       "5109    43330         57           57122   51950         9   \n",
       "5160    43600         82           82189   81669        46   \n",
       "...       ...        ...             ...     ...       ...   \n",
       "238331  43328        217          217089  216708        59   \n",
       "238372  43327        231          231205  234528        88   \n",
       "238395  43604        238          238250  242874        88   \n",
       "238490  43331        272          272037  269678        46   \n",
       "258715  43328        194          194381  194835       102   \n",
       "\n",
       "                                      PROD_NAME  PROD_QTY  TOT_SALES  \n",
       "11        Kettle Sensations   Siracha Lime 150g         5       23.0  \n",
       "72            Smiths Crinkle      Original 330g         5       28.5  \n",
       "5107                       Kettle Original 175g         5       27.0  \n",
       "5109    Kettle Tortilla ChpsBtroot&Ricotta 150g         5       23.0  \n",
       "5160                       Kettle Original 175g         5       27.0  \n",
       "...                                         ...       ...        ...  \n",
       "238331  Old El Paso Salsa   Dip Tomato Med 300g         4       20.4  \n",
       "238372         Kettle Honey Soy    Chicken 175g         4       21.6  \n",
       "238395         Kettle Honey Soy    Chicken 175g         5       27.0  \n",
       "238490                     Kettle Original 175g         4       21.6  \n",
       "258715   Kettle Mozzarella   Basil & Pesto 175g         4       21.6  \n",
       "\n",
       "[228 rows x 8 columns]"
      ]
     },
     "execution_count": 381,
     "metadata": {},
     "output_type": "execute_result"
    }
   ],
   "source": [
    "mean = transactions_data['TOT_SALES'].mean()\n",
    "std = transactions_data['TOT_SALES'].std()\n",
    "\n",
    "# Define outlier threshold\n",
    "z_scores = (transactions_data['TOT_SALES'] - mean) / std\n",
    "outliers = transactions_data[np.abs(z_scores) > 4]\n",
    "outliers"
   ]
  },
  {
   "cell_type": "code",
   "execution_count": 382,
   "id": "1c96b430-cab3-496f-879b-11b88fd30a0c",
   "metadata": {
    "tags": []
   },
   "outputs": [
    {
     "name": "stderr",
     "output_type": "stream",
     "text": [
      "C:\\Users\\Bagdo\\anaconda3\\Lib\\site-packages\\seaborn\\_oldcore.py:1498: FutureWarning:\n",
      "\n",
      "is_categorical_dtype is deprecated and will be removed in a future version. Use isinstance(dtype, CategoricalDtype) instead\n",
      "\n"
     ]
    },
    {
     "data": {
      "image/png": "[encoded data removed]",
      "text/plain": [
       "<Figure size 400x200 with 1 Axes>"
      ]
     },
     "metadata": {},
     "output_type": "display_data"
    }
   ],
   "source": [
    "plt.figure(figsize=(4, 2))\n",
    "sns.boxplot(x=transactions_data['TOT_SALES'])\n",
    "plt.show()"
   ]
  },
  {
   "cell_type": "markdown",
   "id": "3f450c1c-5ece-46cb-851c-c9fd4c6f6d75",
   "metadata": {
    "tags": []
   },
   "source": [
    "Based on the Z-score method and the plot, there are several outliers \\\n",
    "that significantly stand out from the rest of the instances"
   ]
  },
  {
   "cell_type": "code",
   "execution_count": 383,
   "id": "53fc3924-2836-43a5-8260-8188382b015a",
   "metadata": {
    "tags": []
   },
   "outputs": [
    {
     "data": {
      "text/html": [
       "<div>\n",
       "<style scoped>\n",
       "    .dataframe tbody tr th:only-of-type {\n",
       "        vertical-align: middle;\n",
       "    }\n",
       "\n",
       "    .dataframe tbody tr th {\n",
       "        vertical-align: top;\n",
       "    }\n",
       "\n",
       "    .dataframe thead th {\n",
       "        text-align: right;\n",
       "    }\n",
       "</style>\n",
       "<table border=\"1\" class=\"dataframe\">\n",
       "  <thead>\n",
       "    <tr style=\"text-align: right;\">\n",
       "      <th></th>\n",
       "      <th>DATE</th>\n",
       "      <th>STORE_NBR</th>\n",
       "      <th>LYLTY_CARD_NBR</th>\n",
       "      <th>TXN_ID</th>\n",
       "      <th>PROD_NBR</th>\n",
       "      <th>PROD_NAME</th>\n",
       "      <th>PROD_QTY</th>\n",
       "      <th>TOT_SALES</th>\n",
       "      <th>anomaly</th>\n",
       "    </tr>\n",
       "  </thead>\n",
       "  <tbody>\n",
       "    <tr>\n",
       "      <th>3</th>\n",
       "      <td>43329</td>\n",
       "      <td>2</td>\n",
       "      <td>2373</td>\n",
       "      <td>974</td>\n",
       "      <td>69</td>\n",
       "      <td>Smiths Chip Thinly  S/Cream&amp;Onion 175g</td>\n",
       "      <td>5</td>\n",
       "      <td>15.0</td>\n",
       "      <td>-1</td>\n",
       "    </tr>\n",
       "    <tr>\n",
       "      <th>4</th>\n",
       "      <td>43330</td>\n",
       "      <td>2</td>\n",
       "      <td>2426</td>\n",
       "      <td>1038</td>\n",
       "      <td>108</td>\n",
       "      <td>Kettle Tortilla ChpsHny&amp;Jlpno Chili 150g</td>\n",
       "      <td>3</td>\n",
       "      <td>13.8</td>\n",
       "      <td>-1</td>\n",
       "    </tr>\n",
       "    <tr>\n",
       "      <th>11</th>\n",
       "      <td>43332</td>\n",
       "      <td>8</td>\n",
       "      <td>8294</td>\n",
       "      <td>8221</td>\n",
       "      <td>114</td>\n",
       "      <td>Kettle Sensations   Siracha Lime 150g</td>\n",
       "      <td>5</td>\n",
       "      <td>23.0</td>\n",
       "      <td>-1</td>\n",
       "    </tr>\n",
       "    <tr>\n",
       "      <th>13</th>\n",
       "      <td>43329</td>\n",
       "      <td>13</td>\n",
       "      <td>13213</td>\n",
       "      <td>12447</td>\n",
       "      <td>92</td>\n",
       "      <td>WW Crinkle Cut      Chicken 175g</td>\n",
       "      <td>1</td>\n",
       "      <td>1.7</td>\n",
       "      <td>-1</td>\n",
       "    </tr>\n",
       "    <tr>\n",
       "      <th>31</th>\n",
       "      <td>43600</td>\n",
       "      <td>43</td>\n",
       "      <td>43227</td>\n",
       "      <td>40186</td>\n",
       "      <td>26</td>\n",
       "      <td>Pringles Sweet&amp;Spcy BBQ 134g</td>\n",
       "      <td>4</td>\n",
       "      <td>14.8</td>\n",
       "      <td>-1</td>\n",
       "    </tr>\n",
       "    <tr>\n",
       "      <th>...</th>\n",
       "      <td>...</td>\n",
       "      <td>...</td>\n",
       "      <td>...</td>\n",
       "      <td>...</td>\n",
       "      <td>...</td>\n",
       "      <td>...</td>\n",
       "      <td>...</td>\n",
       "      <td>...</td>\n",
       "      <td>...</td>\n",
       "    </tr>\n",
       "    <tr>\n",
       "      <th>264678</th>\n",
       "      <td>43554</td>\n",
       "      <td>265</td>\n",
       "      <td>265111</td>\n",
       "      <td>263428</td>\n",
       "      <td>35</td>\n",
       "      <td>Woolworths Mild     Salsa 300g</td>\n",
       "      <td>1</td>\n",
       "      <td>1.5</td>\n",
       "      <td>-1</td>\n",
       "    </tr>\n",
       "    <tr>\n",
       "      <th>264720</th>\n",
       "      <td>43479</td>\n",
       "      <td>266</td>\n",
       "      <td>266318</td>\n",
       "      <td>264144</td>\n",
       "      <td>105</td>\n",
       "      <td>Woolworths Cheese   Rings 190g</td>\n",
       "      <td>1</td>\n",
       "      <td>1.8</td>\n",
       "      <td>-1</td>\n",
       "    </tr>\n",
       "    <tr>\n",
       "      <th>264736</th>\n",
       "      <td>43297</td>\n",
       "      <td>268</td>\n",
       "      <td>268011</td>\n",
       "      <td>264411</td>\n",
       "      <td>55</td>\n",
       "      <td>Snbts Whlgrn Crisps Cheddr&amp;Mstrd 90g</td>\n",
       "      <td>1</td>\n",
       "      <td>1.7</td>\n",
       "      <td>-1</td>\n",
       "    </tr>\n",
       "    <tr>\n",
       "      <th>264747</th>\n",
       "      <td>43288</td>\n",
       "      <td>268</td>\n",
       "      <td>268210</td>\n",
       "      <td>264624</td>\n",
       "      <td>55</td>\n",
       "      <td>Snbts Whlgrn Crisps Cheddr&amp;Mstrd 90g</td>\n",
       "      <td>1</td>\n",
       "      <td>1.7</td>\n",
       "      <td>-1</td>\n",
       "    </tr>\n",
       "    <tr>\n",
       "      <th>264751</th>\n",
       "      <td>43454</td>\n",
       "      <td>268</td>\n",
       "      <td>268315</td>\n",
       "      <td>264753</td>\n",
       "      <td>55</td>\n",
       "      <td>Snbts Whlgrn Crisps Cheddr&amp;Mstrd 90g</td>\n",
       "      <td>1</td>\n",
       "      <td>1.7</td>\n",
       "      <td>-1</td>\n",
       "    </tr>\n",
       "  </tbody>\n",
       "</table>\n",
       "<p>2022 rows × 9 columns</p>\n",
       "</div>"
      ],
      "text/plain": [
       "         DATE  STORE_NBR  LYLTY_CARD_NBR  TXN_ID  PROD_NBR  \\\n",
       "3       43329          2            2373     974        69   \n",
       "4       43330          2            2426    1038       108   \n",
       "11      43332          8            8294    8221       114   \n",
       "13      43329         13           13213   12447        92   \n",
       "31      43600         43           43227   40186        26   \n",
       "...       ...        ...             ...     ...       ...   \n",
       "264678  43554        265          265111  263428        35   \n",
       "264720  43479        266          266318  264144       105   \n",
       "264736  43297        268          268011  264411        55   \n",
       "264747  43288        268          268210  264624        55   \n",
       "264751  43454        268          268315  264753        55   \n",
       "\n",
       "                                       PROD_NAME  PROD_QTY  TOT_SALES  anomaly  \n",
       "3         Smiths Chip Thinly  S/Cream&Onion 175g         5       15.0       -1  \n",
       "4       Kettle Tortilla ChpsHny&Jlpno Chili 150g         3       13.8       -1  \n",
       "11         Kettle Sensations   Siracha Lime 150g         5       23.0       -1  \n",
       "13              WW Crinkle Cut      Chicken 175g         1        1.7       -1  \n",
       "31                  Pringles Sweet&Spcy BBQ 134g         4       14.8       -1  \n",
       "...                                          ...       ...        ...      ...  \n",
       "264678            Woolworths Mild     Salsa 300g         1        1.5       -1  \n",
       "264720            Woolworths Cheese   Rings 190g         1        1.8       -1  \n",
       "264736      Snbts Whlgrn Crisps Cheddr&Mstrd 90g         1        1.7       -1  \n",
       "264747      Snbts Whlgrn Crisps Cheddr&Mstrd 90g         1        1.7       -1  \n",
       "264751      Snbts Whlgrn Crisps Cheddr&Mstrd 90g         1        1.7       -1  \n",
       "\n",
       "[2022 rows x 9 columns]"
      ]
     },
     "execution_count": 383,
     "metadata": {},
     "output_type": "execute_result"
    }
   ],
   "source": [
    "# ISO-Forest Machine Learning apporach to find outliers\n",
    "iso_forest = IsolationForest(contamination=0.009)  # Adjust contamination level\n",
    "transactions_data['anomaly'] = iso_forest.fit_predict(transactions_data[['TOT_SALES']])\n",
    "outliers = transactions_data[transactions_data['anomaly'] == -1]\n",
    "outliers"
   ]
  },
  {
   "cell_type": "code",
   "execution_count": 384,
   "id": "70bbd49d-05f7-4ef4-813a-dd2518483480",
   "metadata": {
    "tags": []
   },
   "outputs": [],
   "source": [
    "transactions_data = transactions_data[transactions_data['anomaly'] != -1]\n",
    "transactions_data.drop(columns=['anomaly'], inplace=True)  # Remove the anomaly column"
   ]
  },
  {
   "cell_type": "code",
   "execution_count": 385,
   "id": "ea6312d3-9105-4c2f-93a6-c06778625e0a",
   "metadata": {
    "tags": []
   },
   "outputs": [
    {
     "name": "stderr",
     "output_type": "stream",
     "text": [
      "C:\\Users\\Bagdo\\anaconda3\\Lib\\site-packages\\seaborn\\_oldcore.py:1498: FutureWarning:\n",
      "\n",
      "is_categorical_dtype is deprecated and will be removed in a future version. Use isinstance(dtype, CategoricalDtype) instead\n",
      "\n"
     ]
    },
    {
     "data": {
      "image/png": "[encoded data removed]",
      "text/plain": [
       "<Figure size 400x200 with 1 Axes>"
      ]
     },
     "metadata": {},
     "output_type": "display_data"
    }
   ],
   "source": [
    "plt.figure(figsize=(4, 2))\n",
    "sns.boxplot(x=transactions_data['TOT_SALES'])\n",
    "plt.show()"
   ]
  },
  {
   "cell_type": "code",
   "execution_count": 386,
   "id": "adbbccdd-1a0e-438f-a447-94b92f04d7a0",
   "metadata": {
    "tags": []
   },
   "outputs": [
    {
     "name": "stderr",
     "output_type": "stream",
     "text": [
      "C:\\Users\\Bagdo\\anaconda3\\Lib\\site-packages\\seaborn\\_oldcore.py:1498: FutureWarning:\n",
      "\n",
      "is_categorical_dtype is deprecated and will be removed in a future version. Use isinstance(dtype, CategoricalDtype) instead\n",
      "\n"
     ]
    },
    {
     "data": {
      "image/png": "[encoded data removed]",
      "text/plain": [
       "<Figure size 400x200 with 1 Axes>"
      ]
     },
     "metadata": {},
     "output_type": "display_data"
    }
   ],
   "source": [
    "plt.figure(figsize=(4, 2))\n",
    "sns.boxplot(x=transactions_data['PROD_QTY'])\n",
    "plt.show()"
   ]
  },
  {
   "cell_type": "markdown",
   "id": "f0df9c5b-518d-427d-ba11-1bf332759ae0",
   "metadata": {},
   "source": [
    "- Let's check the data types of each column we have in both datasets"
   ]
  },
  {
   "cell_type": "code",
   "execution_count": 20,
   "id": "c64a90bd-7c10-422e-afe8-b8d6f50e33b0",
   "metadata": {},
   "outputs": [
    {
     "name": "stdout",
     "output_type": "stream",
     "text": [
      "DATE                int64\n",
      "STORE_NBR           int64\n",
      "LYLTY_CARD_NBR      int64\n",
      "TXN_ID              int64\n",
      "PROD_NBR            int64\n",
      "PROD_NAME          object\n",
      "PROD_QTY            int64\n",
      "TOT_SALES         float64\n",
      "dtype: object\n"
     ]
    }
   ],
   "source": [
    "print(transactions_data.dtypes)"
   ]
  },
  {
   "cell_type": "code",
   "execution_count": 103,
   "id": "877697bf-63b6-4679-8465-25a7811ec1cc",
   "metadata": {
    "tags": []
   },
   "outputs": [
    {
     "name": "stdout",
     "output_type": "stream",
     "text": [
      "LYLTY_CARD_NBR       int64\n",
      "LIFESTAGE           object\n",
      "PREMIUM_CUSTOMER    object\n",
      "dtype: object\n"
     ]
    }
   ],
   "source": [
    "print(purchases_behaviour.dtypes)"
   ]
  },
  {
   "cell_type": "markdown",
   "id": "899858bb-2e67-4268-941c-ca2556ba45ce",
   "metadata": {},
   "source": [
    "Date column has wrong type"
   ]
  },
  {
   "cell_type": "code",
   "execution_count": 387,
   "id": "d2f37d38-1c69-4149-a866-2d5e105a40c2",
   "metadata": {
    "tags": []
   },
   "outputs": [],
   "source": [
    "transactions_data['DATE'] = pd.to_datetime(transactions_data['DATE'], origin='1899-12-30', unit='D')"
   ]
  },
  {
   "cell_type": "markdown",
   "id": "f13570a9-089a-492f-a810-e45b677c8f8d",
   "metadata": {
    "tags": []
   },
   "source": [
    "- For the next step Let's look at the Product name column "
   ]
  },
  {
   "cell_type": "code",
   "execution_count": 388,
   "id": "22cb3e7b-f37a-4b25-afd1-407d52652d55",
   "metadata": {
    "tags": []
   },
   "outputs": [
    {
     "data": {
      "text/plain": [
       "array(['Natural Chip        Compny SeaSalt175g',\n",
       "       'CCs Nacho Cheese    175g',\n",
       "       'Smiths Crinkle Cut  Chips Chicken 170g',\n",
       "       'Old El Paso Salsa   Dip Tomato Mild 300g',\n",
       "       'Smiths Crinkle Chips Salt & Vinegar 330g',\n",
       "       'Grain Waves         Sweet Chilli 210g',\n",
       "       'Doritos Corn Chip Mexican Jalapeno 150g',\n",
       "       'Grain Waves Sour    Cream&Chives 210G',\n",
       "       'Twisties Cheese     270g', 'Thins Chips Light&  Tangy 175g'],\n",
       "      dtype=object)"
      ]
     },
     "execution_count": 388,
     "metadata": {},
     "output_type": "execute_result"
    }
   ],
   "source": [
    "transactions_data['PROD_NAME'].unique()[:10]"
   ]
  },
  {
   "cell_type": "markdown",
   "id": "2c93ab0c-a6fc-4913-9a9b-bc2901f851dd",
   "metadata": {},
   "source": [
    "Since we need ony Chips. Let's remove the Salsa products"
   ]
  },
  {
   "cell_type": "code",
   "execution_count": 389,
   "id": "5ab87f16-3176-4193-a507-589a1375c8c2",
   "metadata": {
    "tags": []
   },
   "outputs": [],
   "source": [
    "transactions_data = transactions_data[~transactions_data['PROD_NAME'].str.contains('salsa', case=False, na=False)]"
   ]
  },
  {
   "cell_type": "code",
   "execution_count": 390,
   "id": "ffbdf50f-c169-4194-af76-1fc97f17d8e6",
   "metadata": {
    "tags": []
   },
   "outputs": [
    {
     "data": {
      "text/html": [
       "<div>\n",
       "<style scoped>\n",
       "    .dataframe tbody tr th:only-of-type {\n",
       "        vertical-align: middle;\n",
       "    }\n",
       "\n",
       "    .dataframe tbody tr th {\n",
       "        vertical-align: top;\n",
       "    }\n",
       "\n",
       "    .dataframe thead tr th {\n",
       "        text-align: left;\n",
       "    }\n",
       "\n",
       "    .dataframe thead tr:last-of-type th {\n",
       "        text-align: right;\n",
       "    }\n",
       "</style>\n",
       "<table border=\"1\" class=\"dataframe\">\n",
       "  <thead>\n",
       "    <tr>\n",
       "      <th></th>\n",
       "      <th colspan=\"3\" halign=\"left\">PROD_QTY</th>\n",
       "      <th colspan=\"3\" halign=\"left\">TOT_SALES</th>\n",
       "    </tr>\n",
       "    <tr>\n",
       "      <th></th>\n",
       "      <th>min</th>\n",
       "      <th>max</th>\n",
       "      <th>mean</th>\n",
       "      <th>min</th>\n",
       "      <th>max</th>\n",
       "      <th>mean</th>\n",
       "    </tr>\n",
       "    <tr>\n",
       "      <th>PROD_NAME</th>\n",
       "      <th></th>\n",
       "      <th></th>\n",
       "      <th></th>\n",
       "      <th></th>\n",
       "      <th></th>\n",
       "      <th></th>\n",
       "    </tr>\n",
       "  </thead>\n",
       "  <tbody>\n",
       "    <tr>\n",
       "      <th>Burger Rings 220g</th>\n",
       "      <td>1</td>\n",
       "      <td>5</td>\n",
       "      <td>1.898977</td>\n",
       "      <td>2.3</td>\n",
       "      <td>11.5</td>\n",
       "      <td>4.367647</td>\n",
       "    </tr>\n",
       "    <tr>\n",
       "      <th>CCs Nacho Cheese    175g</th>\n",
       "      <td>1</td>\n",
       "      <td>5</td>\n",
       "      <td>1.895194</td>\n",
       "      <td>2.1</td>\n",
       "      <td>10.5</td>\n",
       "      <td>3.979907</td>\n",
       "    </tr>\n",
       "    <tr>\n",
       "      <th>CCs Original 175g</th>\n",
       "      <td>1</td>\n",
       "      <td>5</td>\n",
       "      <td>1.902246</td>\n",
       "      <td>2.1</td>\n",
       "      <td>10.5</td>\n",
       "      <td>3.994716</td>\n",
       "    </tr>\n",
       "    <tr>\n",
       "      <th>CCs Tasty Cheese    175g</th>\n",
       "      <td>1</td>\n",
       "      <td>5</td>\n",
       "      <td>1.877843</td>\n",
       "      <td>2.1</td>\n",
       "      <td>10.5</td>\n",
       "      <td>3.943470</td>\n",
       "    </tr>\n",
       "    <tr>\n",
       "      <th>Cheetos Chs &amp; Bacon Balls 190g</th>\n",
       "      <td>1</td>\n",
       "      <td>3</td>\n",
       "      <td>1.883152</td>\n",
       "      <td>3.3</td>\n",
       "      <td>9.9</td>\n",
       "      <td>6.214402</td>\n",
       "    </tr>\n",
       "    <tr>\n",
       "      <th>...</th>\n",
       "      <td>...</td>\n",
       "      <td>...</td>\n",
       "      <td>...</td>\n",
       "      <td>...</td>\n",
       "      <td>...</td>\n",
       "      <td>...</td>\n",
       "    </tr>\n",
       "    <tr>\n",
       "      <th>WW Original Corn    Chips 200g</th>\n",
       "      <td>1</td>\n",
       "      <td>5</td>\n",
       "      <td>1.889632</td>\n",
       "      <td>1.9</td>\n",
       "      <td>9.5</td>\n",
       "      <td>3.590301</td>\n",
       "    </tr>\n",
       "    <tr>\n",
       "      <th>WW Original Stacked Chips 160g</th>\n",
       "      <td>1</td>\n",
       "      <td>5</td>\n",
       "      <td>1.884331</td>\n",
       "      <td>1.9</td>\n",
       "      <td>9.5</td>\n",
       "      <td>3.580229</td>\n",
       "    </tr>\n",
       "    <tr>\n",
       "      <th>WW Sour Cream &amp;OnionStacked Chips 160g</th>\n",
       "      <td>1</td>\n",
       "      <td>5</td>\n",
       "      <td>1.889413</td>\n",
       "      <td>1.9</td>\n",
       "      <td>9.5</td>\n",
       "      <td>3.589885</td>\n",
       "    </tr>\n",
       "    <tr>\n",
       "      <th>WW Supreme Cheese   Corn Chips 200g</th>\n",
       "      <td>1</td>\n",
       "      <td>5</td>\n",
       "      <td>1.880053</td>\n",
       "      <td>1.9</td>\n",
       "      <td>9.5</td>\n",
       "      <td>3.572101</td>\n",
       "    </tr>\n",
       "    <tr>\n",
       "      <th>Woolworths Cheese   Rings 190g</th>\n",
       "      <td>2</td>\n",
       "      <td>5</td>\n",
       "      <td>2.011186</td>\n",
       "      <td>3.6</td>\n",
       "      <td>9.0</td>\n",
       "      <td>3.620134</td>\n",
       "    </tr>\n",
       "  </tbody>\n",
       "</table>\n",
       "<p>105 rows × 6 columns</p>\n",
       "</div>"
      ],
      "text/plain": [
       "                                       PROD_QTY               TOT_SALES        \\\n",
       "                                            min max      mean       min   max   \n",
       "PROD_NAME                                                                       \n",
       "Burger Rings 220g                             1   5  1.898977       2.3  11.5   \n",
       "CCs Nacho Cheese    175g                      1   5  1.895194       2.1  10.5   \n",
       "CCs Original 175g                             1   5  1.902246       2.1  10.5   \n",
       "CCs Tasty Cheese    175g                      1   5  1.877843       2.1  10.5   \n",
       "Cheetos Chs & Bacon Balls 190g                1   3  1.883152       3.3   9.9   \n",
       "...                                         ...  ..       ...       ...   ...   \n",
       "WW Original Corn    Chips 200g                1   5  1.889632       1.9   9.5   \n",
       "WW Original Stacked Chips 160g                1   5  1.884331       1.9   9.5   \n",
       "WW Sour Cream &OnionStacked Chips 160g        1   5  1.889413       1.9   9.5   \n",
       "WW Supreme Cheese   Corn Chips 200g           1   5  1.880053       1.9   9.5   \n",
       "Woolworths Cheese   Rings 190g                2   5  2.011186       3.6   9.0   \n",
       "\n",
       "                                                  \n",
       "                                            mean  \n",
       "PROD_NAME                                         \n",
       "Burger Rings 220g                       4.367647  \n",
       "CCs Nacho Cheese    175g                3.979907  \n",
       "CCs Original 175g                       3.994716  \n",
       "CCs Tasty Cheese    175g                3.943470  \n",
       "Cheetos Chs & Bacon Balls 190g          6.214402  \n",
       "...                                          ...  \n",
       "WW Original Corn    Chips 200g          3.590301  \n",
       "WW Original Stacked Chips 160g          3.580229  \n",
       "WW Sour Cream &OnionStacked Chips 160g  3.589885  \n",
       "WW Supreme Cheese   Corn Chips 200g     3.572101  \n",
       "Woolworths Cheese   Rings 190g          3.620134  \n",
       "\n",
       "[105 rows x 6 columns]"
      ]
     },
     "execution_count": 390,
     "metadata": {},
     "output_type": "execute_result"
    }
   ],
   "source": [
    "agg_products = transactions_data.groupby('PROD_NAME').agg({\n",
    "    'PROD_QTY': ['min', 'max', 'mean'],  # Min, Max, Mean for quantity\n",
    "    'TOT_SALES': ['min', 'max', 'mean']     # Min, Max, Mean for sales\n",
    "})\n",
    "agg_products"
   ]
  },
  {
   "cell_type": "markdown",
   "id": "e7367e8e-e8fa-46ca-b848-526132529b3e",
   "metadata": {
    "tags": []
   },
   "source": [
    "Top Five most popular Chips Brands"
   ]
  },
  {
   "cell_type": "code",
   "execution_count": 391,
   "id": "059a2057-5901-4002-9f64-f3ee5fb93363",
   "metadata": {
    "tags": []
   },
   "outputs": [
    {
     "data": {
      "text/plain": [
       "PROD_NAME\n",
       "Burger Rings 220g                 1564\n",
       "CCs Nacho Cheese    175g          1498\n",
       "CCs Original 175g                 1514\n",
       "CCs Tasty Cheese    175g          1539\n",
       "Cheetos Chs & Bacon Balls 190g    1472\n",
       "Name: PROD_NAME, dtype: int64"
      ]
     },
     "execution_count": 391,
     "metadata": {},
     "output_type": "execute_result"
    }
   ],
   "source": [
    "transactions_data.groupby('PROD_NAME')['PROD_NAME'].count()[:5]"
   ]
  },
  {
   "cell_type": "markdown",
   "id": "b98e3836-6b0b-4154-b2e0-a89f5f7cb4e2",
   "metadata": {},
   "source": [
    "- Let's Filter out the the dataset based on the number of transactions per loyalty card number"
   ]
  },
  {
   "cell_type": "code",
   "execution_count": 392,
   "id": "4cbe8b07-6e64-45ad-ba7a-aa14d342443b",
   "metadata": {
    "tags": []
   },
   "outputs": [
    {
     "data": {
      "text/plain": [
       "array([ 1,  2,  3,  4,  5,  7,  6,  9,  8, 13, 10, 11, 12, 14, 16, 15, 17],\n",
       "      dtype=int64)"
      ]
     },
     "execution_count": 392,
     "metadata": {},
     "output_type": "execute_result"
    }
   ],
   "source": [
    "transcat_counts = transactions_data.groupby('LYLTY_CARD_NBR')['LYLTY_CARD_NBR'].count()\n",
    "transcat_counts.unique()"
   ]
  },
  {
   "cell_type": "code",
   "execution_count": 393,
   "id": "b2bf22ce-98e4-4685-821b-35a010942563",
   "metadata": {
    "tags": []
   },
   "outputs": [
    {
     "name": "stderr",
     "output_type": "stream",
     "text": [
      "C:\\Users\\Bagdo\\anaconda3\\Lib\\site-packages\\seaborn\\_oldcore.py:1498: FutureWarning:\n",
      "\n",
      "is_categorical_dtype is deprecated and will be removed in a future version. Use isinstance(dtype, CategoricalDtype) instead\n",
      "\n"
     ]
    },
    {
     "data": {
      "image/png": "[encoded data removed]",
      "text/plain": [
       "<Figure size 400x200 with 1 Axes>"
      ]
     },
     "metadata": {},
     "output_type": "display_data"
    }
   ],
   "source": [
    "plt.figure(figsize=(4, 2))\n",
    "sns.boxplot(x=transcat_counts)\n",
    "plt.show()"
   ]
  },
  {
   "cell_type": "markdown",
   "id": "742944af-ef97-4cb0-8f8c-273b97ce9021",
   "metadata": {},
   "source": [
    "- Let's count number of transactions by date"
   ]
  },
  {
   "cell_type": "code",
   "execution_count": 394,
   "id": "e6a48de6-c856-483f-aa11-ccadc169e6ef",
   "metadata": {
    "tags": []
   },
   "outputs": [
    {
     "data": {
      "text/html": [
       "<div>\n",
       "<style scoped>\n",
       "    .dataframe tbody tr th:only-of-type {\n",
       "        vertical-align: middle;\n",
       "    }\n",
       "\n",
       "    .dataframe tbody tr th {\n",
       "        vertical-align: top;\n",
       "    }\n",
       "\n",
       "    .dataframe thead th {\n",
       "        text-align: right;\n",
       "    }\n",
       "</style>\n",
       "<table border=\"1\" class=\"dataframe\">\n",
       "  <thead>\n",
       "    <tr style=\"text-align: right;\">\n",
       "      <th></th>\n",
       "      <th>DATE</th>\n",
       "      <th>transaction_count</th>\n",
       "    </tr>\n",
       "  </thead>\n",
       "  <tbody>\n",
       "    <tr>\n",
       "      <th>0</th>\n",
       "      <td>2018-07-01</td>\n",
       "      <td>663</td>\n",
       "    </tr>\n",
       "    <tr>\n",
       "      <th>1</th>\n",
       "      <td>2018-07-02</td>\n",
       "      <td>649</td>\n",
       "    </tr>\n",
       "    <tr>\n",
       "      <th>2</th>\n",
       "      <td>2018-07-03</td>\n",
       "      <td>672</td>\n",
       "    </tr>\n",
       "    <tr>\n",
       "      <th>3</th>\n",
       "      <td>2018-07-04</td>\n",
       "      <td>668</td>\n",
       "    </tr>\n",
       "    <tr>\n",
       "      <th>4</th>\n",
       "      <td>2018-07-05</td>\n",
       "      <td>659</td>\n",
       "    </tr>\n",
       "    <tr>\n",
       "      <th>...</th>\n",
       "      <td>...</td>\n",
       "      <td>...</td>\n",
       "    </tr>\n",
       "    <tr>\n",
       "      <th>359</th>\n",
       "      <td>2019-06-26</td>\n",
       "      <td>656</td>\n",
       "    </tr>\n",
       "    <tr>\n",
       "      <th>360</th>\n",
       "      <td>2019-06-27</td>\n",
       "      <td>667</td>\n",
       "    </tr>\n",
       "    <tr>\n",
       "      <th>361</th>\n",
       "      <td>2019-06-28</td>\n",
       "      <td>671</td>\n",
       "    </tr>\n",
       "    <tr>\n",
       "      <th>362</th>\n",
       "      <td>2019-06-29</td>\n",
       "      <td>702</td>\n",
       "    </tr>\n",
       "    <tr>\n",
       "      <th>363</th>\n",
       "      <td>2019-06-30</td>\n",
       "      <td>700</td>\n",
       "    </tr>\n",
       "  </tbody>\n",
       "</table>\n",
       "<p>364 rows × 2 columns</p>\n",
       "</div>"
      ],
      "text/plain": [
       "          DATE  transaction_count\n",
       "0   2018-07-01                663\n",
       "1   2018-07-02                649\n",
       "2   2018-07-03                672\n",
       "3   2018-07-04                668\n",
       "4   2018-07-05                659\n",
       "..         ...                ...\n",
       "359 2019-06-26                656\n",
       "360 2019-06-27                667\n",
       "361 2019-06-28                671\n",
       "362 2019-06-29                702\n",
       "363 2019-06-30                700\n",
       "\n",
       "[364 rows x 2 columns]"
      ]
     },
     "execution_count": 394,
     "metadata": {},
     "output_type": "execute_result"
    }
   ],
   "source": [
    "transcat_counts_by_date = transactions_data.groupby('DATE')['LYLTY_CARD_NBR'].count().reset_index(name='transaction_count')\n",
    "transcat_counts_by_date"
   ]
  },
  {
   "cell_type": "markdown",
   "id": "9835e6c2-c09b-4b94-9714-0bef70a15c93",
   "metadata": {},
   "source": [
    "There's only 364 rows, meaning only 364 dates which indicates a missing date. \\\n",
    "Let's create a sequence of dates from 1 Jul 2018 to 30 Jun 2019 and use this to create a  \\\n",
    "chart of number of transactions over time to find the missing date \\"
   ]
  },
  {
   "cell_type": "code",
   "execution_count": 395,
   "id": "78be286b-48dc-4898-8711-62d4ca716813",
   "metadata": {
    "tags": []
   },
   "outputs": [],
   "source": [
    "# Step 1: Create a sequence of dates from 1st July 2018 to 30th June 2019\n",
    "date_seq = pd.date_range(start=\"2018-07-01\", end=\"2019-06-30\", freq=\"D\")\n",
    "date_seq = pd.DataFrame(date_seq, columns=['DATE'])"
   ]
  },
  {
   "cell_type": "code",
   "execution_count": 396,
   "id": "e7dfdce9-9609-4acf-a7d9-2b4aed589793",
   "metadata": {
    "tags": []
   },
   "outputs": [],
   "source": [
    "# Step 2: Merge the created DataFrame with our transactions by date dataFrame\n",
    "merged_data = pd.merge(date_seq, transcat_counts_by_date, on='DATE', how='left')"
   ]
  },
  {
   "cell_type": "code",
   "execution_count": 397,
   "id": "cd731f3a-27dd-4959-b395-4c49318149aa",
   "metadata": {
    "tags": []
   },
   "outputs": [
    {
     "data": {
      "image/png": "[encoded data removed]",
      "text/plain": [
       "<Figure size 1200x400 with 1 Axes>"
      ]
     },
     "metadata": {},
     "output_type": "display_data"
    }
   ],
   "source": [
    "# Step 3: Plot the number of transactions over time\n",
    "plt.figure(figsize=(12, 4))\n",
    "plt.plot(merged_data['DATE'], merged_data['transaction_count'])\n",
    "plt.title(\"Number of Transactions Over Time\")\n",
    "plt.xlabel(\"Date\")\n",
    "plt.ylabel(\"Transaction Count\")\n",
    "plt.grid(True)\n",
    "\n",
    "plt.tight_layout()\n",
    "plt.show()"
   ]
  },
  {
   "cell_type": "markdown",
   "id": "a5bb6d67-1c97-4d66-a296-6d096013f82c",
   "metadata": {},
   "source": [
    "We can see that there is an increase in purchases in December and a break in late \n",
    "December. Let's zoom in on this."
   ]
  },
  {
   "cell_type": "code",
   "execution_count": 398,
   "id": "e2e05219-9ca1-472d-9edd-ed9e456e13e7",
   "metadata": {
    "tags": []
   },
   "outputs": [],
   "source": [
    "# Extracting the December from the merged dataFrame\n",
    "december_data = merged_data[(merged_data['DATE'] >= '2018-12-01') & (merged_data['DATE'] <= '2018-12-31')]"
   ]
  },
  {
   "cell_type": "code",
   "execution_count": 399,
   "id": "2b0ab5eb-e566-490d-b5b4-b583d3cd5a88",
   "metadata": {
    "tags": []
   },
   "outputs": [
    {
     "data": {
      "image/png": "[encoded data removed]",
      "text/plain": [
       "<Figure size 1200x300 with 1 Axes>"
      ]
     },
     "metadata": {},
     "output_type": "display_data"
    }
   ],
   "source": [
    "plt.figure(figsize=(12, 3))\n",
    "plt.plot(december_data['DATE'], december_data['transaction_count'])\n",
    "plt.title(\"Number of Transactions Over Time\")\n",
    "plt.xlabel(\"Date\")\n",
    "\n",
    "plt.ylabel(\"Transaction Count\")\n",
    "plt.grid(True)\n",
    "\n",
    "plt.tight_layout()\n",
    "plt.show()"
   ]
  },
  {
   "cell_type": "markdown",
   "id": "790b7083-3248-4e9b-8d7e-7e89383839f1",
   "metadata": {},
   "source": [
    "We can see that the increase in sales occurs in the lead-up to Christmas and that there are zero sales on Christmas day itself. \\\n",
    "This is due to shops being closed on Christmas day."
   ]
  },
  {
   "cell_type": "markdown",
   "id": "dc83d696-eed8-44ea-9659-1833652765e0",
   "metadata": {
    "tags": []
   },
   "source": [
    "- Feature Engineering"
   ]
  },
  {
   "cell_type": "markdown",
   "id": "21b520a4-978b-4f91-a342-db9c58a6d390",
   "metadata": {},
   "source": [
    "- Let's create a new feature called 'pack size' which will take the weight portion of the prodcut extracted from PROD_NAME"
   ]
  },
  {
   "cell_type": "code",
   "execution_count": 400,
   "id": "4f7fd2d7-2b8e-41ee-add7-b6196fffc8ae",
   "metadata": {
    "tags": []
   },
   "outputs": [],
   "source": [
    "transactions_data['PACK_SIZE'] = transactions_data['PROD_NAME'].apply(lambda x: x[-4:-1])"
   ]
  },
  {
   "cell_type": "code",
   "execution_count": 401,
   "id": "935138ee-6519-4069-88bf-a7ca55047663",
   "metadata": {
    "tags": []
   },
   "outputs": [],
   "source": [
    "transactions_data['PACK_SIZE'] = transactions_data['PROD_NAME'].str.extract('(\\d+)')"
   ]
  },
  {
   "cell_type": "code",
   "execution_count": 402,
   "id": "bb06d2c3-9a4e-4f69-bbc9-0a843e69ec04",
   "metadata": {
    "tags": []
   },
   "outputs": [
    {
     "data": {
      "text/plain": [
       "array(['175', '170', '330', '210', '150', '270', '220', '125', '110',\n",
       "       '134', '380', '165', '135', '250', '200', '160', '190', '180',\n",
       "       '70', '90'], dtype=object)"
      ]
     },
     "execution_count": 402,
     "metadata": {},
     "output_type": "execute_result"
    }
   ],
   "source": [
    "transactions_data['PACK_SIZE'].unique()"
   ]
  },
  {
   "cell_type": "code",
   "execution_count": 403,
   "id": "605712d6-7c38-4a90-9cc0-643d87b2da28",
   "metadata": {
    "tags": []
   },
   "outputs": [
    {
     "data": {
      "text/html": [
       "<iframe\n",
       "    scrolling=\"no\"\n",
       "    width=\"720px\"\n",
       "    height=\"320\"\n",
       "    src=\"iframe_figures/figure_403.html\"\n",
       "    frameborder=\"0\"\n",
       "    allowfullscreen\n",
       "></iframe>\n"
      ]
     },
     "metadata": {},
     "output_type": "display_data"
    }
   ],
   "source": [
    "fig = px.histogram(transactions_data, x='PACK_SIZE')\n",
    "fig.update_layout( width = 700, height = 300)\n",
    "fig.show(renderer='iframe')"
   ]
  },
  {
   "cell_type": "markdown",
   "id": "e25f991b-d441-4a93-bc5f-4c8a37eb0ee5",
   "metadata": {},
   "source": [
    "- the most frequent package size is 175 grams\n",
    "- the highest one is 380 grams\n",
    "- the smallest is 70 grams"
   ]
  },
  {
   "cell_type": "markdown",
   "id": "28144bf3-8217-4ea2-a4d9-1d57fcf4e19e",
   "metadata": {},
   "source": [
    "- Let's create a new feature 'BRAND' which will take the Chip's brand name from PROD_NAME column"
   ]
  },
  {
   "cell_type": "code",
   "execution_count": 404,
   "id": "d7deea01-bf25-47ff-b2de-c12e1923b329",
   "metadata": {
    "tags": []
   },
   "outputs": [],
   "source": [
    "transactions_data['BRAND'] = transactions_data['PROD_NAME'].str.split().str[0]"
   ]
  },
  {
   "cell_type": "markdown",
   "id": "836b8a03-f805-4475-8e4d-6269e7044450",
   "metadata": {},
   "source": [
    "Some of the brand names look like they are of the same brands - such as RED and \\\n",
    "RRD, which are both Red Rock Deli chips. Dorito and Doritos. Snbts and Sunbites Let's combine these together."
   ]
  },
  {
   "cell_type": "code",
   "execution_count": 405,
   "id": "bfb40c71-fb7c-4631-80d3-78b9b7033141",
   "metadata": {
    "tags": []
   },
   "outputs": [],
   "source": [
    "transactions_data['BRAND'] = transactions_data['BRAND'].replace({'RED': 'RRD','Dorito':'Doritos','Snbts':'Sunbites'})"
   ]
  },
  {
   "cell_type": "code",
   "execution_count": 406,
   "id": "5a681321-db1c-4df0-a2dd-391a8e1a1143",
   "metadata": {
    "tags": []
   },
   "outputs": [
    {
     "data": {
      "text/plain": [
       "array(['Natural', 'CCs', 'Smiths', 'Grain', 'Doritos', 'Twisties',\n",
       "       'Thins', 'Burger', 'NCC', 'Cheezels', 'Infzns', 'Kettle', 'Red',\n",
       "       'Pringles', 'Infuzions', 'Smith', 'Tyrrells', 'Cobs', 'French',\n",
       "       'RRD', 'WW', 'Tostitos', 'Cheetos', 'GrnWves', 'Sunbites',\n",
       "       'Woolworths'], dtype=object)"
      ]
     },
     "execution_count": 406,
     "metadata": {},
     "output_type": "execute_result"
    }
   ],
   "source": [
    "transactions_data['BRAND'].unique()"
   ]
  },
  {
   "cell_type": "markdown",
   "id": "1c83870e-4d38-4a95-a98a-0f66b467b7cf",
   "metadata": {},
   "source": [
    "- Now that we are happy with the transaction dataset, let's have a look at the \n",
    "customer dataset."
   ]
  },
  {
   "cell_type": "code",
   "execution_count": 407,
   "id": "aa6a6c43-d1fc-45a3-b323-746a1447f757",
   "metadata": {
    "tags": []
   },
   "outputs": [],
   "source": [
    "# Let's Merge two datasets\n",
    "merged_df = pd.merge(transactions_data, purchases_behaviour,  on = \"LYLTY_CARD_NBR\", how = \"left\")"
   ]
  },
  {
   "cell_type": "code",
   "execution_count": 408,
   "id": "91821336-562e-49f9-ad21-a449c32f13cc",
   "metadata": {
    "tags": []
   },
   "outputs": [
    {
     "data": {
      "text/html": [
       "<div>\n",
       "<style scoped>\n",
       "    .dataframe tbody tr th:only-of-type {\n",
       "        vertical-align: middle;\n",
       "    }\n",
       "\n",
       "    .dataframe tbody tr th {\n",
       "        vertical-align: top;\n",
       "    }\n",
       "\n",
       "    .dataframe thead th {\n",
       "        text-align: right;\n",
       "    }\n",
       "</style>\n",
       "<table border=\"1\" class=\"dataframe\">\n",
       "  <thead>\n",
       "    <tr style=\"text-align: right;\">\n",
       "      <th></th>\n",
       "      <th>DATE</th>\n",
       "      <th>STORE_NBR</th>\n",
       "      <th>LYLTY_CARD_NBR</th>\n",
       "      <th>TXN_ID</th>\n",
       "      <th>PROD_NBR</th>\n",
       "      <th>PROD_NAME</th>\n",
       "      <th>PROD_QTY</th>\n",
       "      <th>TOT_SALES</th>\n",
       "      <th>PACK_SIZE</th>\n",
       "      <th>BRAND</th>\n",
       "      <th>LIFESTAGE</th>\n",
       "      <th>PREMIUM_CUSTOMER</th>\n",
       "    </tr>\n",
       "  </thead>\n",
       "  <tbody>\n",
       "    <tr>\n",
       "      <th>0</th>\n",
       "      <td>2018-10-17</td>\n",
       "      <td>1</td>\n",
       "      <td>1000</td>\n",
       "      <td>1</td>\n",
       "      <td>5</td>\n",
       "      <td>Natural Chip        Compny SeaSalt175g</td>\n",
       "      <td>2</td>\n",
       "      <td>6.0</td>\n",
       "      <td>175</td>\n",
       "      <td>Natural</td>\n",
       "      <td>YOUNG SINGLES/COUPLES</td>\n",
       "      <td>Premium</td>\n",
       "    </tr>\n",
       "    <tr>\n",
       "      <th>1</th>\n",
       "      <td>2019-05-14</td>\n",
       "      <td>1</td>\n",
       "      <td>1307</td>\n",
       "      <td>348</td>\n",
       "      <td>66</td>\n",
       "      <td>CCs Nacho Cheese    175g</td>\n",
       "      <td>3</td>\n",
       "      <td>6.3</td>\n",
       "      <td>175</td>\n",
       "      <td>CCs</td>\n",
       "      <td>MIDAGE SINGLES/COUPLES</td>\n",
       "      <td>Budget</td>\n",
       "    </tr>\n",
       "    <tr>\n",
       "      <th>2</th>\n",
       "      <td>2019-05-20</td>\n",
       "      <td>1</td>\n",
       "      <td>1343</td>\n",
       "      <td>383</td>\n",
       "      <td>61</td>\n",
       "      <td>Smiths Crinkle Cut  Chips Chicken 170g</td>\n",
       "      <td>2</td>\n",
       "      <td>2.9</td>\n",
       "      <td>170</td>\n",
       "      <td>Smiths</td>\n",
       "      <td>MIDAGE SINGLES/COUPLES</td>\n",
       "      <td>Budget</td>\n",
       "    </tr>\n",
       "  </tbody>\n",
       "</table>\n",
       "</div>"
      ],
      "text/plain": [
       "        DATE  STORE_NBR  LYLTY_CARD_NBR  TXN_ID  PROD_NBR  \\\n",
       "0 2018-10-17          1            1000       1         5   \n",
       "1 2019-05-14          1            1307     348        66   \n",
       "2 2019-05-20          1            1343     383        61   \n",
       "\n",
       "                                PROD_NAME  PROD_QTY  TOT_SALES PACK_SIZE  \\\n",
       "0  Natural Chip        Compny SeaSalt175g         2        6.0       175   \n",
       "1                CCs Nacho Cheese    175g         3        6.3       175   \n",
       "2  Smiths Crinkle Cut  Chips Chicken 170g         2        2.9       170   \n",
       "\n",
       "     BRAND               LIFESTAGE PREMIUM_CUSTOMER  \n",
       "0  Natural   YOUNG SINGLES/COUPLES          Premium  \n",
       "1      CCs  MIDAGE SINGLES/COUPLES           Budget  \n",
       "2   Smiths  MIDAGE SINGLES/COUPLES           Budget  "
      ]
     },
     "execution_count": 408,
     "metadata": {},
     "output_type": "execute_result"
    }
   ],
   "source": [
    "merged_df.head(3)"
   ]
  },
  {
   "cell_type": "code",
   "execution_count": 409,
   "id": "0124c431-62c9-481b-b78c-adf9d5c5942d",
   "metadata": {
    "tags": []
   },
   "outputs": [
    {
     "data": {
      "text/plain": [
       "DATE                0\n",
       "STORE_NBR           0\n",
       "LYLTY_CARD_NBR      0\n",
       "TXN_ID              0\n",
       "PROD_NBR            0\n",
       "PROD_NAME           0\n",
       "PROD_QTY            0\n",
       "TOT_SALES           0\n",
       "PACK_SIZE           0\n",
       "BRAND               0\n",
       "LIFESTAGE           0\n",
       "PREMIUM_CUSTOMER    0\n",
       "dtype: int64"
      ]
     },
     "execution_count": 409,
     "metadata": {},
     "output_type": "execute_result"
    }
   ],
   "source": [
    "merged_df.isnull().sum()"
   ]
  },
  {
   "cell_type": "markdown",
   "id": "1aa7176b-98ad-487c-9908-0191cce11f32",
   "metadata": {},
   "source": [
    "**Data analysis on customer segments** \\\n",
    "Now that the data is ready for analysis, we can define some metrics of interest to \n",
    "the client: \n",
    "- Who spends the most on chips (total sales), describing customers by lifestage and\n",
    " how premium their general purchasing behaviour is\n",
    " - How many customers are in each segment\n",
    " - How many chips are bought per customer by segment\n",
    " - What's the average chip price by customer segment\n",
    " - The customer's total spend over the period and total spend for each transaction \n",
    "to understand what proportion of their grocery spend is on chips \n",
    "- Proportion of customers in each customer segment overall to compare against the \n",
    "mix of customers who purchase chips\n"
   ]
  },
  {
   "cell_type": "markdown",
   "id": "285fb6ee-f8a9-43a4-980f-c187753ef038",
   "metadata": {},
   "source": [
    "Let's start with calculating total sales by LIFESTAGE and PREMIUM_CUSTOMER and \\\n",
    "plotting the split by these segments to describe which customer segment contribute \n",
    "most to chip sales."
   ]
  },
  {
   "cell_type": "code",
   "execution_count": 410,
   "id": "a654f14b-0033-47dc-a480-b20cbf59b4e8",
   "metadata": {
    "tags": []
   },
   "outputs": [],
   "source": [
    "total_sales_by_permium = merged_df.groupby('PREMIUM_CUSTOMER').agg({'TOT_SALES':'sum'}).reset_index()                                      "
   ]
  },
  {
   "cell_type": "code",
   "execution_count": 411,
   "id": "9209c95e-b1ad-44ff-b33a-03901b01fe1a",
   "metadata": {
    "tags": []
   },
   "outputs": [],
   "source": [
    "total_sales_by_lifestage = merged_df.groupby('LIFESTAGE').agg({'TOT_SALES':'sum'}).reset_index()"
   ]
  },
  {
   "cell_type": "code",
   "execution_count": 412,
   "id": "264e44a2-e082-4ef4-b670-e8df97befe2f",
   "metadata": {
    "tags": []
   },
   "outputs": [],
   "source": [
    "total_sales_by_customers =  merged_df.groupby(['LIFESTAGE','PREMIUM_CUSTOMER'])['TOT_SALES'].sum().reset_index()"
   ]
  },
  {
   "cell_type": "code",
   "execution_count": 413,
   "id": "daf8e510-476f-45db-bcbe-b8961e3f722d",
   "metadata": {
    "tags": []
   },
   "outputs": [
    {
     "data": {
      "text/html": [
       "<div>\n",
       "<style scoped>\n",
       "    .dataframe tbody tr th:only-of-type {\n",
       "        vertical-align: middle;\n",
       "    }\n",
       "\n",
       "    .dataframe tbody tr th {\n",
       "        vertical-align: top;\n",
       "    }\n",
       "\n",
       "    .dataframe thead th {\n",
       "        text-align: right;\n",
       "    }\n",
       "</style>\n",
       "<table border=\"1\" class=\"dataframe\">\n",
       "  <thead>\n",
       "    <tr style=\"text-align: right;\">\n",
       "      <th></th>\n",
       "      <th>LIFESTAGE</th>\n",
       "      <th>TOT_SALES</th>\n",
       "    </tr>\n",
       "  </thead>\n",
       "  <tbody>\n",
       "    <tr>\n",
       "      <th>0</th>\n",
       "      <td>MIDAGE SINGLES/COUPLES</td>\n",
       "      <td>171062.85</td>\n",
       "    </tr>\n",
       "    <tr>\n",
       "      <th>1</th>\n",
       "      <td>NEW FAMILIES</td>\n",
       "      <td>47069.40</td>\n",
       "    </tr>\n",
       "    <tr>\n",
       "      <th>2</th>\n",
       "      <td>OLDER FAMILIES</td>\n",
       "      <td>325505.65</td>\n",
       "    </tr>\n",
       "    <tr>\n",
       "      <th>3</th>\n",
       "      <td>OLDER SINGLES/COUPLES</td>\n",
       "      <td>372765.85</td>\n",
       "    </tr>\n",
       "    <tr>\n",
       "      <th>4</th>\n",
       "      <td>RETIREES</td>\n",
       "      <td>339728.95</td>\n",
       "    </tr>\n",
       "    <tr>\n",
       "      <th>5</th>\n",
       "      <td>YOUNG FAMILIES</td>\n",
       "      <td>292134.85</td>\n",
       "    </tr>\n",
       "    <tr>\n",
       "      <th>6</th>\n",
       "      <td>YOUNG SINGLES/COUPLES</td>\n",
       "      <td>242035.20</td>\n",
       "    </tr>\n",
       "  </tbody>\n",
       "</table>\n",
       "</div>"
      ],
      "text/plain": [
       "                LIFESTAGE  TOT_SALES\n",
       "0  MIDAGE SINGLES/COUPLES  171062.85\n",
       "1            NEW FAMILIES   47069.40\n",
       "2          OLDER FAMILIES  325505.65\n",
       "3   OLDER SINGLES/COUPLES  372765.85\n",
       "4                RETIREES  339728.95\n",
       "5          YOUNG FAMILIES  292134.85\n",
       "6   YOUNG SINGLES/COUPLES  242035.20"
      ]
     },
     "execution_count": 413,
     "metadata": {},
     "output_type": "execute_result"
    }
   ],
   "source": [
    "total_sales_by_lifestage"
   ]
  },
  {
   "cell_type": "code",
   "execution_count": 414,
   "id": "ce4e474d-6478-41f1-b1a7-4e53853637ae",
   "metadata": {},
   "outputs": [
    {
     "data": {
      "text/html": [
       "<iframe\n",
       "    scrolling=\"no\"\n",
       "    width=\"420px\"\n",
       "    height=\"370\"\n",
       "    src=\"iframe_figures/figure_414.html\"\n",
       "    frameborder=\"0\"\n",
       "    allowfullscreen\n",
       "></iframe>\n"
      ]
     },
     "metadata": {},
     "output_type": "display_data"
    }
   ],
   "source": [
    "fig = px.bar(total_sales_by_permium , x='PREMIUM_CUSTOMER', y='TOT_SALES')\n",
    "fig.update_layout( width = 400, height = 350)\n",
    "fig.show(renderer='iframe')"
   ]
  },
  {
   "cell_type": "code",
   "execution_count": 415,
   "id": "ab9d1c8b-5524-4d8c-ad8e-ba5d8efefd57",
   "metadata": {
    "tags": []
   },
   "outputs": [
    {
     "data": {
      "text/html": [
       "<iframe\n",
       "    scrolling=\"no\"\n",
       "    width=\"1020px\"\n",
       "    height=\"470\"\n",
       "    src=\"iframe_figures/figure_415.html\"\n",
       "    frameborder=\"0\"\n",
       "    allowfullscreen\n",
       "></iframe>\n"
      ]
     },
     "metadata": {},
     "output_type": "display_data"
    }
   ],
   "source": [
    "fig = px.bar(total_sales_by_lifestage, x='LIFESTAGE', y='TOT_SALES')\n",
    "fig.update_layout( width = 1000, height = 450)\n",
    "fig.show(renderer='iframe')"
   ]
  },
  {
   "cell_type": "code",
   "execution_count": 416,
   "id": "984e1494-02d5-44d1-855f-a59b97dfc06f",
   "metadata": {
    "tags": []
   },
   "outputs": [
    {
     "data": {
      "text/html": [
       "<iframe\n",
       "    scrolling=\"no\"\n",
       "    width=\"100%\"\n",
       "    height=\"420\"\n",
       "    src=\"iframe_figures/figure_416.html\"\n",
       "    frameborder=\"0\"\n",
       "    allowfullscreen\n",
       "></iframe>\n"
      ]
     },
     "metadata": {},
     "output_type": "display_data"
    }
   ],
   "source": [
    "fig = px.histogram(total_sales_by_customers , x=\"LIFESTAGE\", y=\"TOT_SALES\",\n",
    "             color='PREMIUM_CUSTOMER', barmode='group',\n",
    "             height=400)\n",
    "fig.show(renderer='iframe')"
   ]
  },
  {
   "cell_type": "markdown",
   "id": "3665be51-179c-402b-8ddb-eb7a826b78f6",
   "metadata": {
    "tags": []
   },
   "source": [
    "- The highest sales in Premium Segment has 'OLDER SINGLES/COUPLES' category. Moreover this is most balanced category of customers.\n",
    "- The highest sales in Mainstream Segment has 'YOUNG SINGLES/COUPLES' category.\n",
    "- The highest sales in Budget Segment has 'OLDER FAMILIES' category.\n",
    "- The lowest sales in all three Segments has 'NEW FAMILIES'!"
   ]
  },
  {
   "cell_type": "markdown",
   "id": "21892d15-f8de-4448-941f-1c2ed612aaae",
   "metadata": {},
   "source": [
    "Higher sales may also be driven by more units of chips being bought per customer. \n",
    "Let's have a look at this next"
   ]
  },
  {
   "cell_type": "code",
   "execution_count": 417,
   "id": "d53e5320-5a24-4c40-85d7-b0423e5cad1e",
   "metadata": {
    "tags": []
   },
   "outputs": [
    {
     "data": {
      "text/html": [
       "<div>\n",
       "<style scoped>\n",
       "    .dataframe tbody tr th:only-of-type {\n",
       "        vertical-align: middle;\n",
       "    }\n",
       "\n",
       "    .dataframe tbody tr th {\n",
       "        vertical-align: top;\n",
       "    }\n",
       "\n",
       "    .dataframe thead th {\n",
       "        text-align: right;\n",
       "    }\n",
       "</style>\n",
       "<table border=\"1\" class=\"dataframe\">\n",
       "  <thead>\n",
       "    <tr style=\"text-align: right;\">\n",
       "      <th></th>\n",
       "      <th>LIFESTAGE</th>\n",
       "      <th>PREMIUM_CUSTOMER</th>\n",
       "      <th>PROD_QTY</th>\n",
       "    </tr>\n",
       "  </thead>\n",
       "  <tbody>\n",
       "    <tr>\n",
       "      <th>0</th>\n",
       "      <td>MIDAGE SINGLES/COUPLES</td>\n",
       "      <td>Budget</td>\n",
       "      <td>8792</td>\n",
       "    </tr>\n",
       "    <tr>\n",
       "      <th>1</th>\n",
       "      <td>MIDAGE SINGLES/COUPLES</td>\n",
       "      <td>Mainstream</td>\n",
       "      <td>21040</td>\n",
       "    </tr>\n",
       "    <tr>\n",
       "      <th>2</th>\n",
       "      <td>MIDAGE SINGLES/COUPLES</td>\n",
       "      <td>Premium</td>\n",
       "      <td>14275</td>\n",
       "    </tr>\n",
       "    <tr>\n",
       "      <th>3</th>\n",
       "      <td>NEW FAMILIES</td>\n",
       "      <td>Budget</td>\n",
       "      <td>5204</td>\n",
       "    </tr>\n",
       "    <tr>\n",
       "      <th>4</th>\n",
       "      <td>NEW FAMILIES</td>\n",
       "      <td>Mainstream</td>\n",
       "      <td>4021</td>\n",
       "    </tr>\n",
       "    <tr>\n",
       "      <th>5</th>\n",
       "      <td>NEW FAMILIES</td>\n",
       "      <td>Premium</td>\n",
       "      <td>2751</td>\n",
       "    </tr>\n",
       "    <tr>\n",
       "      <th>6</th>\n",
       "      <td>OLDER FAMILIES</td>\n",
       "      <td>Budget</td>\n",
       "      <td>41512</td>\n",
       "    </tr>\n",
       "    <tr>\n",
       "      <th>7</th>\n",
       "      <td>OLDER FAMILIES</td>\n",
       "      <td>Mainstream</td>\n",
       "      <td>25557</td>\n",
       "    </tr>\n",
       "    <tr>\n",
       "      <th>8</th>\n",
       "      <td>OLDER FAMILIES</td>\n",
       "      <td>Premium</td>\n",
       "      <td>20042</td>\n",
       "    </tr>\n",
       "    <tr>\n",
       "      <th>9</th>\n",
       "      <td>OLDER SINGLES/COUPLES</td>\n",
       "      <td>Budget</td>\n",
       "      <td>32598</td>\n",
       "    </tr>\n",
       "    <tr>\n",
       "      <th>10</th>\n",
       "      <td>OLDER SINGLES/COUPLES</td>\n",
       "      <td>Mainstream</td>\n",
       "      <td>32309</td>\n",
       "    </tr>\n",
       "    <tr>\n",
       "      <th>11</th>\n",
       "      <td>OLDER SINGLES/COUPLES</td>\n",
       "      <td>Premium</td>\n",
       "      <td>31436</td>\n",
       "    </tr>\n",
       "    <tr>\n",
       "      <th>12</th>\n",
       "      <td>RETIREES</td>\n",
       "      <td>Budget</td>\n",
       "      <td>26688</td>\n",
       "    </tr>\n",
       "    <tr>\n",
       "      <th>13</th>\n",
       "      <td>RETIREES</td>\n",
       "      <td>Mainstream</td>\n",
       "      <td>37396</td>\n",
       "    </tr>\n",
       "    <tr>\n",
       "      <th>14</th>\n",
       "      <td>RETIREES</td>\n",
       "      <td>Premium</td>\n",
       "      <td>23066</td>\n",
       "    </tr>\n",
       "    <tr>\n",
       "      <th>15</th>\n",
       "      <td>YOUNG FAMILIES</td>\n",
       "      <td>Budget</td>\n",
       "      <td>34206</td>\n",
       "    </tr>\n",
       "    <tr>\n",
       "      <th>16</th>\n",
       "      <td>YOUNG FAMILIES</td>\n",
       "      <td>Mainstream</td>\n",
       "      <td>22966</td>\n",
       "    </tr>\n",
       "    <tr>\n",
       "      <th>17</th>\n",
       "      <td>YOUNG FAMILIES</td>\n",
       "      <td>Premium</td>\n",
       "      <td>20739</td>\n",
       "    </tr>\n",
       "    <tr>\n",
       "      <th>18</th>\n",
       "      <td>YOUNG SINGLES/COUPLES</td>\n",
       "      <td>Budget</td>\n",
       "      <td>15318</td>\n",
       "    </tr>\n",
       "    <tr>\n",
       "      <th>19</th>\n",
       "      <td>YOUNG SINGLES/COUPLES</td>\n",
       "      <td>Mainstream</td>\n",
       "      <td>35979</td>\n",
       "    </tr>\n",
       "    <tr>\n",
       "      <th>20</th>\n",
       "      <td>YOUNG SINGLES/COUPLES</td>\n",
       "      <td>Premium</td>\n",
       "      <td>10453</td>\n",
       "    </tr>\n",
       "  </tbody>\n",
       "</table>\n",
       "</div>"
      ],
      "text/plain": [
       "                 LIFESTAGE PREMIUM_CUSTOMER  PROD_QTY\n",
       "0   MIDAGE SINGLES/COUPLES           Budget      8792\n",
       "1   MIDAGE SINGLES/COUPLES       Mainstream     21040\n",
       "2   MIDAGE SINGLES/COUPLES          Premium     14275\n",
       "3             NEW FAMILIES           Budget      5204\n",
       "4             NEW FAMILIES       Mainstream      4021\n",
       "5             NEW FAMILIES          Premium      2751\n",
       "6           OLDER FAMILIES           Budget     41512\n",
       "7           OLDER FAMILIES       Mainstream     25557\n",
       "8           OLDER FAMILIES          Premium     20042\n",
       "9    OLDER SINGLES/COUPLES           Budget     32598\n",
       "10   OLDER SINGLES/COUPLES       Mainstream     32309\n",
       "11   OLDER SINGLES/COUPLES          Premium     31436\n",
       "12                RETIREES           Budget     26688\n",
       "13                RETIREES       Mainstream     37396\n",
       "14                RETIREES          Premium     23066\n",
       "15          YOUNG FAMILIES           Budget     34206\n",
       "16          YOUNG FAMILIES       Mainstream     22966\n",
       "17          YOUNG FAMILIES          Premium     20739\n",
       "18   YOUNG SINGLES/COUPLES           Budget     15318\n",
       "19   YOUNG SINGLES/COUPLES       Mainstream     35979\n",
       "20   YOUNG SINGLES/COUPLES          Premium     10453"
      ]
     },
     "execution_count": 417,
     "metadata": {},
     "output_type": "execute_result"
    }
   ],
   "source": [
    "avg_units_by_customers =  merged_df.groupby(['LIFESTAGE','PREMIUM_CUSTOMER'])['PROD_QTY'].sum().reset_index()\n",
    "avg_units_by_customers"
   ]
  },
  {
   "cell_type": "code",
   "execution_count": 55,
   "id": "e26b6563-1921-4cda-9661-ccb1dd415e76",
   "metadata": {
    "tags": []
   },
   "outputs": [
    {
     "data": {
      "text/html": [
       "<iframe\n",
       "    scrolling=\"no\"\n",
       "    width=\"100%\"\n",
       "    height=\"420\"\n",
       "    src=\"iframe_figures/figure_55.html\"\n",
       "    frameborder=\"0\"\n",
       "    allowfullscreen\n",
       "></iframe>\n"
      ]
     },
     "metadata": {},
     "output_type": "display_data"
    }
   ],
   "source": [
    "fig = px.histogram(avg_units_by_customers, x=\"LIFESTAGE\", y=\"PROD_QTY\",\n",
    "             color='PREMIUM_CUSTOMER', barmode='group',\n",
    "             height=400)\n",
    "fig.show(renderer='iframe')"
   ]
  },
  {
   "cell_type": "markdown",
   "id": "8b295596-e9be-4928-af2e-6b6a8ca202f7",
   "metadata": {},
   "source": [
    "- Older families and young families in general buy more chips per customer"
   ]
  },
  {
   "cell_type": "markdown",
   "id": "8c2527ef-2b96-4333-963e-a14371918fe9",
   "metadata": {
    "tags": []
   },
   "source": [
    "**Let's also investigate the average price per unit chips bought for each customer \\\n",
    "segment as this is also a driver of total sales**"
   ]
  },
  {
   "cell_type": "code",
   "execution_count": 418,
   "id": "3b2ee38a-1ae1-46f3-975c-fdfd1f3fb542",
   "metadata": {
    "tags": []
   },
   "outputs": [],
   "source": [
    "# Average price per unit by LIFESTAGE and PREMIUM_CUSTOMER\n",
    "#Step 1: Calculate total sales and total quantity for each segment\n",
    "segment_sales = merged_df.groupby(['LIFESTAGE', 'PREMIUM_CUSTOMER']).agg({'TOT_SALES': 'sum', 'PROD_QTY': 'sum'}).reset_index()\n",
    "#Step 2: Calculate average price per unit chips \n",
    "segment_sales['AVG_PRICE'] = segment_sales['TOT_SALES'] / segment_sales['PROD_QTY'] \n"
   ]
  },
  {
   "cell_type": "code",
   "execution_count": 57,
   "id": "98c1c003-9b24-49c0-9960-3428c2a69116",
   "metadata": {
    "tags": []
   },
   "outputs": [
    {
     "data": {
      "text/html": [
       "<div>\n",
       "<style scoped>\n",
       "    .dataframe tbody tr th:only-of-type {\n",
       "        vertical-align: middle;\n",
       "    }\n",
       "\n",
       "    .dataframe tbody tr th {\n",
       "        vertical-align: top;\n",
       "    }\n",
       "\n",
       "    .dataframe thead th {\n",
       "        text-align: right;\n",
       "    }\n",
       "</style>\n",
       "<table border=\"1\" class=\"dataframe\">\n",
       "  <thead>\n",
       "    <tr style=\"text-align: right;\">\n",
       "      <th></th>\n",
       "      <th>LIFESTAGE</th>\n",
       "      <th>PREMIUM_CUSTOMER</th>\n",
       "      <th>TOT_SALES</th>\n",
       "      <th>PROD_QTY</th>\n",
       "      <th>AVG_PRICE</th>\n",
       "    </tr>\n",
       "  </thead>\n",
       "  <tbody>\n",
       "    <tr>\n",
       "      <th>0</th>\n",
       "      <td>MIDAGE SINGLES/COUPLES</td>\n",
       "      <td>Budget</td>\n",
       "      <td>33032.70</td>\n",
       "      <td>8792</td>\n",
       "      <td>3.757131</td>\n",
       "    </tr>\n",
       "    <tr>\n",
       "      <th>1</th>\n",
       "      <td>MIDAGE SINGLES/COUPLES</td>\n",
       "      <td>Mainstream</td>\n",
       "      <td>84022.20</td>\n",
       "      <td>21040</td>\n",
       "      <td>3.993451</td>\n",
       "    </tr>\n",
       "    <tr>\n",
       "      <th>2</th>\n",
       "      <td>MIDAGE SINGLES/COUPLES</td>\n",
       "      <td>Premium</td>\n",
       "      <td>54007.95</td>\n",
       "      <td>14275</td>\n",
       "      <td>3.783394</td>\n",
       "    </tr>\n",
       "    <tr>\n",
       "      <th>3</th>\n",
       "      <td>NEW FAMILIES</td>\n",
       "      <td>Budget</td>\n",
       "      <td>20492.55</td>\n",
       "      <td>5204</td>\n",
       "      <td>3.937846</td>\n",
       "    </tr>\n",
       "    <tr>\n",
       "      <th>4</th>\n",
       "      <td>NEW FAMILIES</td>\n",
       "      <td>Mainstream</td>\n",
       "      <td>15872.25</td>\n",
       "      <td>4021</td>\n",
       "      <td>3.947339</td>\n",
       "    </tr>\n",
       "    <tr>\n",
       "      <th>5</th>\n",
       "      <td>NEW FAMILIES</td>\n",
       "      <td>Premium</td>\n",
       "      <td>10704.60</td>\n",
       "      <td>2751</td>\n",
       "      <td>3.891167</td>\n",
       "    </tr>\n",
       "    <tr>\n",
       "      <th>6</th>\n",
       "      <td>OLDER FAMILIES</td>\n",
       "      <td>Budget</td>\n",
       "      <td>155525.15</td>\n",
       "      <td>41512</td>\n",
       "      <td>3.746511</td>\n",
       "    </tr>\n",
       "    <tr>\n",
       "      <th>7</th>\n",
       "      <td>OLDER FAMILIES</td>\n",
       "      <td>Mainstream</td>\n",
       "      <td>95468.00</td>\n",
       "      <td>25557</td>\n",
       "      <td>3.735493</td>\n",
       "    </tr>\n",
       "    <tr>\n",
       "      <th>8</th>\n",
       "      <td>OLDER FAMILIES</td>\n",
       "      <td>Premium</td>\n",
       "      <td>74512.50</td>\n",
       "      <td>20042</td>\n",
       "      <td>3.717818</td>\n",
       "    </tr>\n",
       "    <tr>\n",
       "      <th>9</th>\n",
       "      <td>OLDER SINGLES/COUPLES</td>\n",
       "      <td>Budget</td>\n",
       "      <td>126711.30</td>\n",
       "      <td>32598</td>\n",
       "      <td>3.887088</td>\n",
       "    </tr>\n",
       "    <tr>\n",
       "      <th>10</th>\n",
       "      <td>OLDER SINGLES/COUPLES</td>\n",
       "      <td>Mainstream</td>\n",
       "      <td>123550.10</td>\n",
       "      <td>32309</td>\n",
       "      <td>3.824015</td>\n",
       "    </tr>\n",
       "    <tr>\n",
       "      <th>11</th>\n",
       "      <td>OLDER SINGLES/COUPLES</td>\n",
       "      <td>Premium</td>\n",
       "      <td>122504.45</td>\n",
       "      <td>31436</td>\n",
       "      <td>3.896948</td>\n",
       "    </tr>\n",
       "    <tr>\n",
       "      <th>12</th>\n",
       "      <td>RETIREES</td>\n",
       "      <td>Budget</td>\n",
       "      <td>104983.40</td>\n",
       "      <td>26688</td>\n",
       "      <td>3.933731</td>\n",
       "    </tr>\n",
       "    <tr>\n",
       "      <th>13</th>\n",
       "      <td>RETIREES</td>\n",
       "      <td>Mainstream</td>\n",
       "      <td>144196.75</td>\n",
       "      <td>37396</td>\n",
       "      <td>3.855940</td>\n",
       "    </tr>\n",
       "    <tr>\n",
       "      <th>14</th>\n",
       "      <td>RETIREES</td>\n",
       "      <td>Premium</td>\n",
       "      <td>90548.80</td>\n",
       "      <td>23066</td>\n",
       "      <td>3.925639</td>\n",
       "    </tr>\n",
       "    <tr>\n",
       "      <th>15</th>\n",
       "      <td>YOUNG FAMILIES</td>\n",
       "      <td>Budget</td>\n",
       "      <td>128664.70</td>\n",
       "      <td>34206</td>\n",
       "      <td>3.761466</td>\n",
       "    </tr>\n",
       "    <tr>\n",
       "      <th>16</th>\n",
       "      <td>YOUNG FAMILIES</td>\n",
       "      <td>Mainstream</td>\n",
       "      <td>85501.25</td>\n",
       "      <td>22966</td>\n",
       "      <td>3.722949</td>\n",
       "    </tr>\n",
       "    <tr>\n",
       "      <th>17</th>\n",
       "      <td>YOUNG FAMILIES</td>\n",
       "      <td>Premium</td>\n",
       "      <td>77968.90</td>\n",
       "      <td>20739</td>\n",
       "      <td>3.759530</td>\n",
       "    </tr>\n",
       "    <tr>\n",
       "      <th>18</th>\n",
       "      <td>YOUNG SINGLES/COUPLES</td>\n",
       "      <td>Budget</td>\n",
       "      <td>56648.30</td>\n",
       "      <td>15318</td>\n",
       "      <td>3.698153</td>\n",
       "    </tr>\n",
       "    <tr>\n",
       "      <th>19</th>\n",
       "      <td>YOUNG SINGLES/COUPLES</td>\n",
       "      <td>Mainstream</td>\n",
       "      <td>146650.70</td>\n",
       "      <td>35979</td>\n",
       "      <td>4.076008</td>\n",
       "    </tr>\n",
       "    <tr>\n",
       "      <th>20</th>\n",
       "      <td>YOUNG SINGLES/COUPLES</td>\n",
       "      <td>Premium</td>\n",
       "      <td>38736.20</td>\n",
       "      <td>10453</td>\n",
       "      <td>3.705750</td>\n",
       "    </tr>\n",
       "  </tbody>\n",
       "</table>\n",
       "</div>"
      ],
      "text/plain": [
       "                 LIFESTAGE PREMIUM_CUSTOMER  TOT_SALES  PROD_QTY  AVG_PRICE\n",
       "0   MIDAGE SINGLES/COUPLES           Budget   33032.70      8792   3.757131\n",
       "1   MIDAGE SINGLES/COUPLES       Mainstream   84022.20     21040   3.993451\n",
       "2   MIDAGE SINGLES/COUPLES          Premium   54007.95     14275   3.783394\n",
       "3             NEW FAMILIES           Budget   20492.55      5204   3.937846\n",
       "4             NEW FAMILIES       Mainstream   15872.25      4021   3.947339\n",
       "5             NEW FAMILIES          Premium   10704.60      2751   3.891167\n",
       "6           OLDER FAMILIES           Budget  155525.15     41512   3.746511\n",
       "7           OLDER FAMILIES       Mainstream   95468.00     25557   3.735493\n",
       "8           OLDER FAMILIES          Premium   74512.50     20042   3.717818\n",
       "9    OLDER SINGLES/COUPLES           Budget  126711.30     32598   3.887088\n",
       "10   OLDER SINGLES/COUPLES       Mainstream  123550.10     32309   3.824015\n",
       "11   OLDER SINGLES/COUPLES          Premium  122504.45     31436   3.896948\n",
       "12                RETIREES           Budget  104983.40     26688   3.933731\n",
       "13                RETIREES       Mainstream  144196.75     37396   3.855940\n",
       "14                RETIREES          Premium   90548.80     23066   3.925639\n",
       "15          YOUNG FAMILIES           Budget  128664.70     34206   3.761466\n",
       "16          YOUNG FAMILIES       Mainstream   85501.25     22966   3.722949\n",
       "17          YOUNG FAMILIES          Premium   77968.90     20739   3.759530\n",
       "18   YOUNG SINGLES/COUPLES           Budget   56648.30     15318   3.698153\n",
       "19   YOUNG SINGLES/COUPLES       Mainstream  146650.70     35979   4.076008\n",
       "20   YOUNG SINGLES/COUPLES          Premium   38736.20     10453   3.705750"
      ]
     },
     "execution_count": 57,
     "metadata": {},
     "output_type": "execute_result"
    }
   ],
   "source": [
    "segment_sales"
   ]
  },
  {
   "cell_type": "code",
   "execution_count": 58,
   "id": "1123194e-dbd3-489e-b7b3-cc2fb8dd430b",
   "metadata": {
    "tags": []
   },
   "outputs": [
    {
     "data": {
      "text/html": [
       "<iframe\n",
       "    scrolling=\"no\"\n",
       "    width=\"100%\"\n",
       "    height=\"420\"\n",
       "    src=\"iframe_figures/figure_58.html\"\n",
       "    frameborder=\"0\"\n",
       "    allowfullscreen\n",
       "></iframe>\n"
      ]
     },
     "metadata": {},
     "output_type": "display_data"
    }
   ],
   "source": [
    "fig = px.histogram(segment_sales, x=\"LIFESTAGE\", y=\"AVG_PRICE\",\n",
    "             color='PREMIUM_CUSTOMER', barmode='group',\n",
    "             height=400)\n",
    "fig.show(renderer='iframe')"
   ]
  },
  {
   "cell_type": "markdown",
   "id": "f6fff02b-312d-45ec-98f0-c5cfcc939e21",
   "metadata": {},
   "source": [
    "As the difference in average price per unit isn't large, we can check if this difference is statistically different"
   ]
  },
  {
   "cell_type": "markdown",
   "id": "03d8b7b3-b523-4043-be1f-a37d2c6e2fe5",
   "metadata": {},
   "source": [
    " Perform an independent t-test between mainstream vs premium and budget midage and young singles and couples"
   ]
  },
  {
   "cell_type": "code",
   "execution_count": 419,
   "id": "5e138d28-d60c-4e0d-a38a-29c301271faa",
   "metadata": {
    "tags": []
   },
   "outputs": [
    {
     "name": "stdout",
     "output_type": "stream",
     "text": [
      "T-test Mainstream vs Premium: t-stat=-3.488, p-value=0.000\n"
     ]
    }
   ],
   "source": [
    "# Filter for mainstream and premium customers\n",
    "mainstream = merged_df[merged_df['PREMIUM_CUSTOMER'] == 'Mainstream']['PROD_QTY']\n",
    "premium = merged_df[merged_df['PREMIUM_CUSTOMER'] == 'Premium']['PROD_QTY']\n",
    "\n",
    "# Perform t-test\n",
    "t_stat, p_value = ttest_ind(mainstream, premium, equal_var=False)  # Assume unequal variances\n",
    "print(f\"T-test Mainstream vs Premium: t-stat={t_stat:.3f}, p-value={p_value:.3f}\")"
   ]
  },
  {
   "cell_type": "markdown",
   "id": "62a13708-b8a8-4cb0-bd69-46382eb4674d",
   "metadata": {
    "tags": []
   },
   "source": [
    "The t-test results in a p-value of 0.016, i.e. the unit price for mainstream, \\\n",
    "young and mid-age singles and couples [ARE / ARE NOT] significantly higher than \\\n",
    "that of budget or premium, young and midage singles and couples."
   ]
  },
  {
   "cell_type": "markdown",
   "id": "d918fa7c-08fc-4eb5-a739-1c84a563761d",
   "metadata": {},
   "source": [
    "We might want to target customer segments that contribute the most to sales to \\\n",
    "retain them or further increase sales. Let's look at Mainstream - young \\\n",
    "singles/couples. For instance, let's find out if they tend to buy a particular \\ \n",
    "brand of chips."
   ]
  },
  {
   "cell_type": "code",
   "execution_count": 420,
   "id": "a689ad87-ce3e-467c-b4fe-a8b1f934aff6",
   "metadata": {
    "tags": []
   },
   "outputs": [],
   "source": [
    "young_mainstream = merged_df[(merged_df['LIFESTAGE'] == 'YOUNG SINGLES/COUPLES') & (merged_df['PREMIUM_CUSTOMER'] == 'Mainstream')]"
   ]
  },
  {
   "cell_type": "code",
   "execution_count": 421,
   "id": "6da36f91-22ba-4fcb-9860-c8d451e74b58",
   "metadata": {
    "tags": []
   },
   "outputs": [],
   "source": [
    "top_brands = young_mainstream.groupby('BRAND')['BRAND'].count().sort_values(ascending=False).reset_index(name='count')[:5]"
   ]
  },
  {
   "cell_type": "code",
   "execution_count": 62,
   "id": "3e9b0297-d1e8-4e65-b7df-5dfe266ac469",
   "metadata": {
    "tags": []
   },
   "outputs": [
    {
     "data": {
      "text/html": [
       "<iframe\n",
       "    scrolling=\"no\"\n",
       "    width=\"470px\"\n",
       "    height=\"370\"\n",
       "    src=\"iframe_figures/figure_62.html\"\n",
       "    frameborder=\"0\"\n",
       "    allowfullscreen\n",
       "></iframe>\n"
      ]
     },
     "metadata": {},
     "output_type": "display_data"
    }
   ],
   "source": [
    "fig = px.bar(top_brands, x='BRAND', y='count')\n",
    "fig.update_layout( width = 450, height = 350)\n",
    "fig.show(renderer='iframe')"
   ]
  },
  {
   "cell_type": "markdown",
   "id": "d73be90c-18ca-4af6-8de0-ca3c7cf9307c",
   "metadata": {},
   "source": [
    "Kettle is the most popular brand among the customer's category who buy most of Chips"
   ]
  },
  {
   "cell_type": "markdown",
   "id": "ec2c479a-a841-4387-9f76-133b768452ab",
   "metadata": {},
   "source": [
    "- Let's also find out if our target segment tends to buy larger packs of chips."
   ]
  },
  {
   "cell_type": "code",
   "execution_count": 63,
   "id": "9233434e-591b-4da6-a3f1-039cf2ace8c8",
   "metadata": {
    "tags": []
   },
   "outputs": [],
   "source": [
    "pack_size = young_mainstream.groupby('PACK_SIZE')['PACK_SIZE'].count().sort_values(ascending=False).reset_index(name='count')"
   ]
  },
  {
   "cell_type": "code",
   "execution_count": 64,
   "id": "a44050f5-3ad6-4aa1-93be-6a43ea58fbb9",
   "metadata": {
    "tags": []
   },
   "outputs": [
    {
     "data": {
      "text/html": [
       "<iframe\n",
       "    scrolling=\"no\"\n",
       "    width=\"720px\"\n",
       "    height=\"370\"\n",
       "    src=\"iframe_figures/figure_64.html\"\n",
       "    frameborder=\"0\"\n",
       "    allowfullscreen\n",
       "></iframe>\n"
      ]
     },
     "metadata": {},
     "output_type": "display_data"
    }
   ],
   "source": [
    "fig = px.bar(pack_size , x='PACK_SIZE', y='count')\n",
    "fig.update_layout( width = 700, height = 350)\n",
    "fig.show(renderer='iframe')"
   ]
  },
  {
   "cell_type": "markdown",
   "id": "b1facd09-a727-4c1a-b506-9796400a5c64",
   "metadata": {
    "tags": []
   },
   "source": [
    "#### Quantium Virtual Internship - Retail Strategy and Analytics - Task 2"
   ]
  },
  {
   "cell_type": "code",
   "execution_count": 701,
   "id": "25f4f358-f101-4008-9dfb-4e98105a29fe",
   "metadata": {
    "tags": []
   },
   "outputs": [
    {
     "data": {
      "text/html": [
       "<div>\n",
       "<style scoped>\n",
       "    .dataframe tbody tr th:only-of-type {\n",
       "        vertical-align: middle;\n",
       "    }\n",
       "\n",
       "    .dataframe tbody tr th {\n",
       "        vertical-align: top;\n",
       "    }\n",
       "\n",
       "    .dataframe thead th {\n",
       "        text-align: right;\n",
       "    }\n",
       "</style>\n",
       "<table border=\"1\" class=\"dataframe\">\n",
       "  <thead>\n",
       "    <tr style=\"text-align: right;\">\n",
       "      <th></th>\n",
       "      <th>DATE</th>\n",
       "      <th>STORE_NBR</th>\n",
       "      <th>LYLTY_CARD_NBR</th>\n",
       "      <th>TXN_ID</th>\n",
       "      <th>PROD_NBR</th>\n",
       "      <th>PROD_NAME</th>\n",
       "      <th>PROD_QTY</th>\n",
       "      <th>TOT_SALES</th>\n",
       "      <th>PACK_SIZE</th>\n",
       "      <th>BRAND</th>\n",
       "      <th>LIFESTAGE</th>\n",
       "      <th>PREMIUM_CUSTOMER</th>\n",
       "      <th>YEAR_MONTH</th>\n",
       "    </tr>\n",
       "  </thead>\n",
       "  <tbody>\n",
       "    <tr>\n",
       "      <th>0</th>\n",
       "      <td>2018-10-17</td>\n",
       "      <td>1</td>\n",
       "      <td>1000</td>\n",
       "      <td>1</td>\n",
       "      <td>5</td>\n",
       "      <td>Natural Chip        Compny SeaSalt175g</td>\n",
       "      <td>2</td>\n",
       "      <td>6.0</td>\n",
       "      <td>175</td>\n",
       "      <td>Natural</td>\n",
       "      <td>YOUNG SINGLES/COUPLES</td>\n",
       "      <td>Premium</td>\n",
       "      <td>2018-10</td>\n",
       "    </tr>\n",
       "    <tr>\n",
       "      <th>1</th>\n",
       "      <td>2019-05-14</td>\n",
       "      <td>1</td>\n",
       "      <td>1307</td>\n",
       "      <td>348</td>\n",
       "      <td>66</td>\n",
       "      <td>CCs Nacho Cheese    175g</td>\n",
       "      <td>3</td>\n",
       "      <td>6.3</td>\n",
       "      <td>175</td>\n",
       "      <td>CCs</td>\n",
       "      <td>MIDAGE SINGLES/COUPLES</td>\n",
       "      <td>Budget</td>\n",
       "      <td>2019-05</td>\n",
       "    </tr>\n",
       "    <tr>\n",
       "      <th>2</th>\n",
       "      <td>2019-05-20</td>\n",
       "      <td>1</td>\n",
       "      <td>1343</td>\n",
       "      <td>383</td>\n",
       "      <td>61</td>\n",
       "      <td>Smiths Crinkle Cut  Chips Chicken 170g</td>\n",
       "      <td>2</td>\n",
       "      <td>2.9</td>\n",
       "      <td>170</td>\n",
       "      <td>Smiths</td>\n",
       "      <td>MIDAGE SINGLES/COUPLES</td>\n",
       "      <td>Budget</td>\n",
       "      <td>2019-05</td>\n",
       "    </tr>\n",
       "  </tbody>\n",
       "</table>\n",
       "</div>"
      ],
      "text/plain": [
       "        DATE  STORE_NBR  LYLTY_CARD_NBR  TXN_ID  PROD_NBR  \\\n",
       "0 2018-10-17          1            1000       1         5   \n",
       "1 2019-05-14          1            1307     348        66   \n",
       "2 2019-05-20          1            1343     383        61   \n",
       "\n",
       "                                PROD_NAME  PROD_QTY  TOT_SALES PACK_SIZE  \\\n",
       "0  Natural Chip        Compny SeaSalt175g         2        6.0       175   \n",
       "1                CCs Nacho Cheese    175g         3        6.3       175   \n",
       "2  Smiths Crinkle Cut  Chips Chicken 170g         2        2.9       170   \n",
       "\n",
       "     BRAND               LIFESTAGE PREMIUM_CUSTOMER YEAR_MONTH  \n",
       "0  Natural   YOUNG SINGLES/COUPLES          Premium    2018-10  \n",
       "1      CCs  MIDAGE SINGLES/COUPLES           Budget    2019-05  \n",
       "2   Smiths  MIDAGE SINGLES/COUPLES           Budget    2019-05  "
      ]
     },
     "execution_count": 701,
     "metadata": {},
     "output_type": "execute_result"
    }
   ],
   "source": [
    "merged_df.head(3)"
   ]
  },
  {
   "cell_type": "markdown",
   "id": "7f65951a-1c21-491d-bb65-446e3f98b949",
   "metadata": {
    "tags": []
   },
   "source": [
    "Top Five Stores based on Total Sales"
   ]
  },
  {
   "cell_type": "code",
   "execution_count": 702,
   "id": "45c4e3a6-48f4-4712-8c7a-fc7a903d0458",
   "metadata": {
    "tags": []
   },
   "outputs": [
    {
     "data": {
      "text/html": [
       "<div>\n",
       "<style scoped>\n",
       "    .dataframe tbody tr th:only-of-type {\n",
       "        vertical-align: middle;\n",
       "    }\n",
       "\n",
       "    .dataframe tbody tr th {\n",
       "        vertical-align: top;\n",
       "    }\n",
       "\n",
       "    .dataframe thead th {\n",
       "        text-align: right;\n",
       "    }\n",
       "</style>\n",
       "<table border=\"1\" class=\"dataframe\">\n",
       "  <thead>\n",
       "    <tr style=\"text-align: right;\">\n",
       "      <th></th>\n",
       "      <th>STORE_NBR</th>\n",
       "      <th>TOT_SALES</th>\n",
       "    </tr>\n",
       "  </thead>\n",
       "  <tbody>\n",
       "    <tr>\n",
       "      <th>0</th>\n",
       "      <td>226</td>\n",
       "      <td>16382.55</td>\n",
       "    </tr>\n",
       "    <tr>\n",
       "      <th>1</th>\n",
       "      <td>88</td>\n",
       "      <td>15320.75</td>\n",
       "    </tr>\n",
       "    <tr>\n",
       "      <th>2</th>\n",
       "      <td>165</td>\n",
       "      <td>14959.15</td>\n",
       "    </tr>\n",
       "    <tr>\n",
       "      <th>3</th>\n",
       "      <td>237</td>\n",
       "      <td>14755.60</td>\n",
       "    </tr>\n",
       "    <tr>\n",
       "      <th>4</th>\n",
       "      <td>40</td>\n",
       "      <td>14339.20</td>\n",
       "    </tr>\n",
       "  </tbody>\n",
       "</table>\n",
       "</div>"
      ],
      "text/plain": [
       "   STORE_NBR  TOT_SALES\n",
       "0        226   16382.55\n",
       "1         88   15320.75\n",
       "2        165   14959.15\n",
       "3        237   14755.60\n",
       "4         40   14339.20"
      ]
     },
     "execution_count": 702,
     "metadata": {},
     "output_type": "execute_result"
    }
   ],
   "source": [
    "top_stores = merged_df.groupby('STORE_NBR').agg({'TOT_SALES':'sum'}).sort_values(by = 'TOT_SALES', ascending = False).reset_index()[:5]\n",
    "top_stores"
   ]
  },
  {
   "cell_type": "markdown",
   "id": "db0c24ef-c120-4afa-acc8-77d64aac632c",
   "metadata": {},
   "source": [
    "The client has selected store numbers 77, 86 and 88 as trial stores and want \\\n",
    "control stores to be established stores that are operational for the entire \\\n",
    "observation period.\\\n",
    "\\\n",
    "We would want to match trial stores to control stores that are similar to the trial \\\n",
    "store prior to the trial period of Feb 2019 in terms of:\n",
    "\n",
    "- Monthly overall sales revenue \n",
    "- Monthly number of customers \n",
    "- Monthly number of transactions per customer"
   ]
  },
  {
   "cell_type": "markdown",
   "id": "163cbbc0-bb10-4174-9fa0-327062e34de3",
   "metadata": {
    "tags": []
   },
   "source": [
    "- Step.1 : Calculate Metrics for All Stores Before the Trial (Pre-Trial Period) "
   ]
  },
  {
   "cell_type": "markdown",
   "id": "c387dabc-fb54-4b60-b048-cba66ac76a92",
   "metadata": {
    "tags": []
   },
   "source": [
    "Monthly overall sales revenue"
   ]
  },
  {
   "cell_type": "code",
   "execution_count": 791,
   "id": "929d3005-a50d-4779-9b15-b5f87594be2b",
   "metadata": {
    "tags": []
   },
   "outputs": [],
   "source": [
    "# new column year-month\n",
    "merged_df['YEAR_MONTH'] = merged_df['DATE'].dt.to_period('M')"
   ]
  },
  {
   "cell_type": "code",
   "execution_count": 892,
   "id": "c989f23a-dd7a-4631-b363-a66e97b53b7d",
   "metadata": {
    "tags": []
   },
   "outputs": [],
   "source": [
    "pre_trial_records = merged_df[(merged_df['DATE'] < '2019-02-01')]"
   ]
  },
  {
   "cell_type": "code",
   "execution_count": 893,
   "id": "ba835385-be93-4a57-99f9-b53bff6ddd19",
   "metadata": {
    "tags": []
   },
   "outputs": [],
   "source": [
    "pre_trial_sales_revenue = pre_trial_records.groupby(['STORE_NBR','YEAR_MONTH'])['TOT_SALES'].sum().reset_index()\n",
    "pre_trial_number_customers = pre_trial_records.groupby(['STORE_NBR','YEAR_MONTH'])['LYLTY_CARD_NBR'].count().reset_index()\n",
    "pre_trial_number_txn = pre_trial_records.groupby(['STORE_NBR', 'YEAR_MONTH'])['TXN_ID'].nunique().reset_index(name = 'Number_of_TXN')"
   ]
  },
  {
   "cell_type": "code",
   "execution_count": 894,
   "id": "47fc6af7-ba53-45db-89f9-87b6dda9fdf9",
   "metadata": {
    "tags": []
   },
   "outputs": [],
   "source": [
    "pre_trial_records = pd.merge(pre_trial_sales_revenue, pre_trial_number_customers, on = ['STORE_NBR','YEAR_MONTH'], how ='inner')\n",
    "pre_trial_records = pd.merge(pre_trial_records, pre_trial_number_txn, on = ['STORE_NBR','YEAR_MONTH'], how ='inner')"
   ]
  },
  {
   "cell_type": "markdown",
   "id": "8aadbf9a-f726-4a7f-9371-db65e4c8ae21",
   "metadata": {},
   "source": [
    "Now we need to work out a way of ranking how similar each potential control store is to the trial store. \\\n",
    "We can calculate how correlated the performance of each store is to the trial store. \\\n",
    "Let's write a function for this so that we don't have to calculate this for each trial store and control store pair."
   ]
  },
  {
   "cell_type": "markdown",
   "id": "d255e236-b1c6-4869-9e11-f127ad0aae14",
   "metadata": {
    "tags": []
   },
   "source": [
    "Calculates the standardized magnitude distance between a trial store and all potential control stores. \\\n",
    "$D = \\sqrt{\\sum_{t=1}^{T}(Z_{trial} - Z_{control})^2}$"
   ]
  },
  {
   "cell_type": "code",
   "execution_count": 708,
   "id": "47144a42-38be-4a08-844f-4f2b1bcea9b4",
   "metadata": {
    "tags": []
   },
   "outputs": [],
   "source": [
    "\"\"\"\n",
    "Parameters:\n",
    "input_table (pd.DataFrame): The table containing store metrics.\n",
    "metric_col (str): The column name for the metric used in distance calculation.\n",
    "store_comparison (int): The trial store number to compare against.\n",
    "\n",
    "Returns:\n",
    "pd.DataFrame: A table with control stores and their magnitude distance values.\n",
    "\"\"\"\n",
    "def calculate_magnitude_distance(input_table, metric_col, store_comparison):\n",
    "\n",
    "    # Calculate mean and standard deviation for standardization\n",
    "    mean_metric = input_table[metric_col].mean()\n",
    "    std_metric = input_table[metric_col].std()\n",
    "\n",
    "    # Standardize the metric for all stores\n",
    "    input_table['standardized_metric'] = (input_table[metric_col] - mean_metric) / std_metric\n",
    "\n",
    "    # Extract trial store data and set index to YEAR_MONTH\n",
    "    trial_store_records = input_table[input_table['STORE_NBR'] == store_comparison].set_index('YEAR_MONTH')['standardized_metric']\n",
    "\n",
    "    # Initialize results list\n",
    "    distance_results = []\n",
    "\n",
    "    # Loop through each control store\n",
    "    for control_store in input_table['STORE_NBR'].unique():\n",
    "        if control_store != store_comparison:\n",
    "            control_store_records = input_table[input_table['STORE_NBR'] == control_store].set_index('YEAR_MONTH')['standardized_metric']\n",
    "\n",
    "            # Align both Series by common months\n",
    "            common_months = trial_store_records.index.intersection(control_store_records.index)\n",
    "\n",
    "            if len(common_months) > 0:  # Ensure we have common time periods\n",
    "                trial_values = trial_store_records.loc[common_months].values\n",
    "                control_values = control_store_records.loc[common_months].values\n",
    "\n",
    "                # Compute magnitude distance (Euclidean norm)\n",
    "                magnitude_distance = np.linalg.norm(trial_values - control_values)\n",
    "\n",
    "                # Append results\n",
    "                distance_results.append({'Trial_Store': store_comparison, 'Control_Store': control_store, 'Magnitude_Distance': magnitude_distance})\n",
    "\n",
    "    # Convert results to DataFrame\n",
    "    return pd.DataFrame(distance_results)"
   ]
  },
  {
   "cell_type": "markdown",
   "id": "8c8bc5cb-d609-46fe-a85a-b56391c10860",
   "metadata": {},
   "source": [
    " Calculates the correlation between a trial store and all potential control stores."
   ]
  },
  {
   "cell_type": "code",
   "execution_count": 777,
   "id": "a8d1b93b-c947-445b-933e-ab7fc6434e98",
   "metadata": {
    "tags": []
   },
   "outputs": [],
   "source": [
    "\"\"\"\n",
    "Parameters:\n",
    "input_table (pd.DataFrame): The table containing store metrics.\n",
    "metric_col (str): The column name for the metric used in correlation calculation.\n",
    "store_comparison (int): The trial store number to compare against.\n",
    "\n",
    "Returns:\n",
    "pd.DataFrame: A table with control stores and their correlation values.\n",
    "\"\"\"\n",
    "\n",
    "def calculate_correlation(input_table, metric_col, store_comparison):\n",
    "    # Extract trial store data and select only the relevant columns\n",
    "    trial_store_data = input_table[input_table['STORE_NBR'] == store_comparison][['YEAR_MONTH', metric_col]]\n",
    "\n",
    "    # Initialize an empty list to store results\n",
    "    correlation_results = []\n",
    "\n",
    "    # Loop through each control store\n",
    "    for control_store in input_table['STORE_NBR'].unique():\n",
    "        if control_store != store_comparison:  # Exclude the trial store itself\n",
    "            # Extract control store data and select only the relevant columns\n",
    "            control_store_data = input_table[input_table['STORE_NBR'] == control_store][['YEAR_MONTH', metric_col]]\n",
    "\n",
    "            # Merge on YEAR_MONTH to ensure alignment\n",
    "            merged_data = pd.merge(trial_store_data, control_store_data, on='YEAR_MONTH', suffixes=('_trial', '_control'))\n",
    "\n",
    "            # Drop rows with missing values\n",
    "            merged_data.dropna(inplace=True)\n",
    "\n",
    "            # Check if both series have more than one unique value before calculating correlation\n",
    "            if len(merged_data[f'{metric_col}_trial'].unique()) > 1 and len(merged_data[f'{metric_col}_control'].unique()) > 1:\n",
    "                # Calculate correlation\n",
    "                correlation = merged_data[f'{metric_col}_trial'].corr(merged_data[f'{metric_col}_control'])\n",
    "            else:\n",
    "                correlation = np.nan  # Not enough variability, set to NaN\n",
    "\n",
    "            # Append results\n",
    "            correlation_results.append({'Trial_Store': store_comparison, 'Control_Store': control_store, 'Correlation': correlation})\n",
    "\n",
    "    # Convert results to a DataFrame\n",
    "    correlation_df = pd.DataFrame(correlation_results)\n",
    "\n",
    "    return correlation_df"
   ]
  },
  {
   "cell_type": "code",
   "execution_count": 825,
   "id": "d41c3dd9-a1f2-4bcf-a530-584fd4448983",
   "metadata": {
    "tags": []
   },
   "outputs": [
    {
     "data": {
      "text/html": [
       "<div>\n",
       "<style scoped>\n",
       "    .dataframe tbody tr th:only-of-type {\n",
       "        vertical-align: middle;\n",
       "    }\n",
       "\n",
       "    .dataframe tbody tr th {\n",
       "        vertical-align: top;\n",
       "    }\n",
       "\n",
       "    .dataframe thead th {\n",
       "        text-align: right;\n",
       "    }\n",
       "</style>\n",
       "<table border=\"1\" class=\"dataframe\">\n",
       "  <thead>\n",
       "    <tr style=\"text-align: right;\">\n",
       "      <th></th>\n",
       "      <th>Trial_Store</th>\n",
       "      <th>Control_Store</th>\n",
       "      <th>Final_Score</th>\n",
       "      <th>Rank</th>\n",
       "    </tr>\n",
       "  </thead>\n",
       "  <tbody>\n",
       "    <tr>\n",
       "      <th>228</th>\n",
       "      <td>77</td>\n",
       "      <td>233</td>\n",
       "      <td>0.885298</td>\n",
       "      <td>1.0</td>\n",
       "    </tr>\n",
       "    <tr>\n",
       "      <th>420</th>\n",
       "      <td>86</td>\n",
       "      <td>155</td>\n",
       "      <td>0.735262</td>\n",
       "      <td>1.0</td>\n",
       "    </tr>\n",
       "    <tr>\n",
       "      <th>768</th>\n",
       "      <td>88</td>\n",
       "      <td>237</td>\n",
       "      <td>0.366185</td>\n",
       "      <td>1.0</td>\n",
       "    </tr>\n",
       "  </tbody>\n",
       "</table>\n",
       "</div>"
      ],
      "text/plain": [
       "     Trial_Store  Control_Store  Final_Score  Rank\n",
       "228           77            233     0.885298   1.0\n",
       "420           86            155     0.735262   1.0\n",
       "768           88            237     0.366185   1.0"
      ]
     },
     "execution_count": 825,
     "metadata": {},
     "output_type": "execute_result"
    }
   ],
   "source": [
    "# Function to compute final ranking score\n",
    "def compute_final_score(correlation_df, magnitude_df):\n",
    "    \"\"\"\n",
    "    Merge correlation and magnitude distance DataFrames and compute final score.\n",
    "    \"\"\"\n",
    "    combined_df = pd.merge(correlation_df, magnitude_df, on=['Trial_Store', 'Control_Store'])\n",
    "\n",
    "    # Calculate final score: More correlation is better, smaller magnitude distance is better\n",
    "    combined_df['Final_Score'] = (0.5 * combined_df['Correlation']) + (0.5 * (1 - combined_df['Magnitude_Distance']))\n",
    "\n",
    "    return combined_df\n",
    "\n",
    "# Step 1: Compute Correlation & Magnitude Distance for all metrics\n",
    "metrics = ['TOT_SALES', 'LYLTY_CARD_NBR', 'Number_of_TXN']\n",
    "trial_stores = [77, 86, 88]  # Example trial stores\n",
    "final_results = []\n",
    "\n",
    "for metric in metrics:\n",
    "    for trial_store in trial_stores:\n",
    "        # Compute correlation and magnitude distance for each metric and each trial store\n",
    "        correlation_df = calculate_correlation(input_table, metric, trial_store)\n",
    "        magnitude_df = calculate_magnitude_distance(input_table, metric, trial_store)\n",
    "\n",
    "        # Merge and compute final score for this metric\n",
    "        final_metric_df = compute_final_score(correlation_df, magnitude_df)\n",
    "\n",
    "        # Store results with metric name\n",
    "        final_metric_df['Metric'] = metric\n",
    "        final_results.append(final_metric_df)\n",
    "\n",
    "# Step 2: Combine results for all three metrics\n",
    "final_results_df = pd.concat(final_results)\n",
    "\n",
    "# Step 3: Compute the overall final score by averaging across all three metrics\n",
    "overall_final_score = final_results_df.groupby(['Trial_Store', 'Control_Store']).agg(\n",
    "    Final_Score=('Final_Score', 'mean')  # Averaging across metrics\n",
    ").reset_index()\n",
    "\n",
    "# Step 4: Rank control stores for each trial store\n",
    "overall_final_score['Rank'] = overall_final_score.groupby('Trial_Store')['Final_Score'].rank(ascending=False)\n",
    "\n",
    "# Step 5: Select the best control store for each trial store\n",
    "best_control_stores = overall_final_score.loc[overall_final_score.groupby('Trial_Store')['Final_Score'].idxmax()]\n",
    "\n",
    "# Display final best control store matches\n",
    "best_control_stores\n"
   ]
  },
  {
   "cell_type": "code",
   "execution_count": 880,
   "id": "d89bc681-138d-4de5-89f5-e95ff79382bd",
   "metadata": {
    "tags": []
   },
   "outputs": [],
   "source": [
    "def plot_bar(metric):\n",
    "    g = sns.catplot(data=comparison, kind=\"bar\",\n",
    "                    x=\"YEAR_MONTH\", y=metric, hue=\"STORE_NBR\",\n",
    "                    errorbar=\"sd\", palette=\"dark\", alpha=.6, height=6)\n",
    "    g.figure.set_size_inches(6, 2)\n",
    "    g.set_axis_labels(\"\", metric)\n",
    "    g.legend.set_title(\"\")"
   ]
  },
  {
   "cell_type": "code",
   "execution_count": 881,
   "id": "c4707f3f-0357-4a3d-aa78-5753f31af8d6",
   "metadata": {
    "tags": []
   },
   "outputs": [
    {
     "data": {
      "image/png": "[encoded data removed]",
      "text/plain": [
       "<Figure size 600x200 with 1 Axes>"
      ]
     },
     "metadata": {},
     "output_type": "display_data"
    },
    {
     "data": {
      "image/png": "[encoded data removed]",
      "text/plain": [
       "<Figure size 600x200 with 1 Axes>"
      ]
     },
     "metadata": {},
     "output_type": "display_data"
    },
    {
     "data": {
      "image/png": "[encoded data removed]",
      "text/plain": [
       "<Figure size 600x200 with 1 Axes>"
      ]
     },
     "metadata": {},
     "output_type": "display_data"
    }
   ],
   "source": [
    "comparison = pre_trial_records[(pre_trial_records['STORE_NBR'] == 233) | (pre_trial_records['STORE_NBR'] == 77)]\n",
    "for metric in metrics:\n",
    "    plot_bar(metric)\n",
    "    warnings.simplefilter(action='ignore', category=FutureWarning)"
   ]
  },
  {
   "cell_type": "code",
   "execution_count": 882,
   "id": "e46b7345-f3cf-4784-9df0-2e25d667e837",
   "metadata": {
    "tags": []
   },
   "outputs": [
    {
     "data": {
      "image/png": "[encoded data removed]",
      "text/plain": [
       "<Figure size 600x200 with 1 Axes>"
      ]
     },
     "metadata": {},
     "output_type": "display_data"
    },
    {
     "data": {
      "image/png": "[encoded data removed]",
      "text/plain": [
       "<Figure size 600x200 with 1 Axes>"
      ]
     },
     "metadata": {},
     "output_type": "display_data"
    },
    {
     "data": {
      "image/png": "[encoded data removed]",
      "text/plain": [
       "<Figure size 600x200 with 1 Axes>"
      ]
     },
     "metadata": {},
     "output_type": "display_data"
    }
   ],
   "source": [
    "comparison = pre_trial_records[(pre_trial_records['STORE_NBR'] == 86) | (pre_trial_records['STORE_NBR'] == 155)]\n",
    "for metric in metrics:\n",
    "    plot_bar(metric)\n",
    "    warnings.simplefilter(action='ignore', category=FutureWarning)"
   ]
  },
  {
   "cell_type": "code",
   "execution_count": 883,
   "id": "ea0bc123-f9ab-4f0b-87f6-755d5882f281",
   "metadata": {
    "tags": []
   },
   "outputs": [
    {
     "data": {
      "image/png": "[encoded data removed]",
      "text/plain": [
       "<Figure size 600x200 with 1 Axes>"
      ]
     },
     "metadata": {},
     "output_type": "display_data"
    },
    {
     "data": {
      "image/png": "[encoded data removed]",
      "text/plain": [
       "<Figure size 600x200 with 1 Axes>"
      ]
     },
     "metadata": {},
     "output_type": "display_data"
    },
    {
     "data": {
      "image/png": "[encoded data removed]",
      "text/plain": [
       "<Figure size 600x200 with 1 Axes>"
      ]
     },
     "metadata": {},
     "output_type": "display_data"
    }
   ],
   "source": [
    "comparison = pre_trial_records[(pre_trial_records['STORE_NBR'] == 88) | (pre_trial_records['STORE_NBR'] == 237)]\n",
    "for metric in metrics:\n",
    "    plot_bar(metric)\n",
    "    warnings.simplefilter(action='ignore', category=FutureWarning)"
   ]
  },
  {
   "cell_type": "markdown",
   "id": "56d5823a-b0e1-439b-a367-e859b81f7071",
   "metadata": {
    "tags": []
   },
   "source": [
    "Seems like the chosen control sales really match their trial stores pairs. "
   ]
  },
  {
   "cell_type": "markdown",
   "id": "be0db3e4-7109-4fe0-9b17-db0c4dd5dc8d",
   "metadata": {},
   "source": [
    "The trial period goes from the start of February 2019 to April 2019. \\\n",
    "We now want to see if there has been an uplift in overall chip sales. "
   ]
  },
  {
   "cell_type": "markdown",
   "id": "52d0d638-ff6d-4c50-8333-4e279791e691",
   "metadata": {},
   "source": [
    "Let's take the records in period form February 2019 up to April 2019 and compare the chosen control stores with our trial stores \\\n",
    "and see if there is more difference now in terms of Sales, Customers and etc"
   ]
  },
  {
   "cell_type": "code",
   "execution_count": 896,
   "id": "e80bfa3b-bccd-4b81-ac9d-6299a11f986f",
   "metadata": {
    "tags": []
   },
   "outputs": [],
   "source": [
    "trial_records = merged_df[(merged_df['DATE'] >= '2019-02-01') & (merged_df['DATE'] <= '2019-04-01')]"
   ]
  },
  {
   "cell_type": "code",
   "execution_count": 888,
   "id": "0e7db392-469b-408d-9bb7-f3037e2a6874",
   "metadata": {
    "tags": []
   },
   "outputs": [],
   "source": [
    "trial_sales_revenue = trial_records.groupby(['STORE_NBR','YEAR_MONTH'])['TOT_SALES'].sum().reset_index()\n",
    "trial_number_customers = trial_records.groupby(['STORE_NBR','YEAR_MONTH'])['LYLTY_CARD_NBR'].count().reset_index()\n",
    "trial_number_txn = trial_records.groupby(['STORE_NBR', 'YEAR_MONTH'])['TXN_ID'].nunique().reset_index(name = 'Number_of_TXN')"
   ]
  },
  {
   "cell_type": "code",
   "execution_count": 898,
   "id": "478a890b-1707-444f-91cc-5d0ad40fb01f",
   "metadata": {
    "tags": []
   },
   "outputs": [],
   "source": [
    "trial_records = pd.merge(trial_sales_revenue, trial_number_customers, on = ['STORE_NBR','YEAR_MONTH'], how ='inner')\n",
    "trial_records = pd.merge(trial_records, trial_number_txn, on = ['STORE_NBR','YEAR_MONTH'], how ='inner')"
   ]
  },
  {
   "cell_type": "code",
   "execution_count": 899,
   "id": "bd6bac9c-9628-4ece-9aca-01f448d855a7",
   "metadata": {
    "tags": []
   },
   "outputs": [
    {
     "data": {
      "text/html": [
       "<div>\n",
       "<style scoped>\n",
       "    .dataframe tbody tr th:only-of-type {\n",
       "        vertical-align: middle;\n",
       "    }\n",
       "\n",
       "    .dataframe tbody tr th {\n",
       "        vertical-align: top;\n",
       "    }\n",
       "\n",
       "    .dataframe thead th {\n",
       "        text-align: right;\n",
       "    }\n",
       "</style>\n",
       "<table border=\"1\" class=\"dataframe\">\n",
       "  <thead>\n",
       "    <tr style=\"text-align: right;\">\n",
       "      <th></th>\n",
       "      <th>STORE_NBR</th>\n",
       "      <th>YEAR_MONTH</th>\n",
       "      <th>TOT_SALES</th>\n",
       "      <th>LYLTY_CARD_NBR</th>\n",
       "      <th>Number_of_TXN</th>\n",
       "    </tr>\n",
       "  </thead>\n",
       "  <tbody>\n",
       "    <tr>\n",
       "      <th>0</th>\n",
       "      <td>1</td>\n",
       "      <td>2019-02</td>\n",
       "      <td>192.9</td>\n",
       "      <td>50</td>\n",
       "      <td>50</td>\n",
       "    </tr>\n",
       "    <tr>\n",
       "      <th>1</th>\n",
       "      <td>1</td>\n",
       "      <td>2019-03</td>\n",
       "      <td>183.4</td>\n",
       "      <td>46</td>\n",
       "      <td>46</td>\n",
       "    </tr>\n",
       "    <tr>\n",
       "      <th>2</th>\n",
       "      <td>1</td>\n",
       "      <td>2019-04</td>\n",
       "      <td>4.6</td>\n",
       "      <td>1</td>\n",
       "      <td>1</td>\n",
       "    </tr>\n",
       "    <tr>\n",
       "      <th>3</th>\n",
       "      <td>2</td>\n",
       "      <td>2019-02</td>\n",
       "      <td>133.4</td>\n",
       "      <td>29</td>\n",
       "      <td>29</td>\n",
       "    </tr>\n",
       "    <tr>\n",
       "      <th>4</th>\n",
       "      <td>2</td>\n",
       "      <td>2019-03</td>\n",
       "      <td>174.0</td>\n",
       "      <td>41</td>\n",
       "      <td>41</td>\n",
       "    </tr>\n",
       "    <tr>\n",
       "      <th>...</th>\n",
       "      <td>...</td>\n",
       "      <td>...</td>\n",
       "      <td>...</td>\n",
       "      <td>...</td>\n",
       "      <td>...</td>\n",
       "    </tr>\n",
       "    <tr>\n",
       "      <th>735</th>\n",
       "      <td>271</td>\n",
       "      <td>2019-03</td>\n",
       "      <td>699.6</td>\n",
       "      <td>96</td>\n",
       "      <td>96</td>\n",
       "    </tr>\n",
       "    <tr>\n",
       "      <th>736</th>\n",
       "      <td>271</td>\n",
       "      <td>2019-04</td>\n",
       "      <td>28.0</td>\n",
       "      <td>5</td>\n",
       "      <td>5</td>\n",
       "    </tr>\n",
       "    <tr>\n",
       "      <th>737</th>\n",
       "      <td>272</td>\n",
       "      <td>2019-02</td>\n",
       "      <td>385.3</td>\n",
       "      <td>47</td>\n",
       "      <td>47</td>\n",
       "    </tr>\n",
       "    <tr>\n",
       "      <th>738</th>\n",
       "      <td>272</td>\n",
       "      <td>2019-03</td>\n",
       "      <td>421.9</td>\n",
       "      <td>51</td>\n",
       "      <td>51</td>\n",
       "    </tr>\n",
       "    <tr>\n",
       "      <th>739</th>\n",
       "      <td>272</td>\n",
       "      <td>2019-04</td>\n",
       "      <td>36.2</td>\n",
       "      <td>5</td>\n",
       "      <td>5</td>\n",
       "    </tr>\n",
       "  </tbody>\n",
       "</table>\n",
       "<p>740 rows × 5 columns</p>\n",
       "</div>"
      ],
      "text/plain": [
       "     STORE_NBR YEAR_MONTH  TOT_SALES  LYLTY_CARD_NBR  Number_of_TXN\n",
       "0            1    2019-02      192.9              50             50\n",
       "1            1    2019-03      183.4              46             46\n",
       "2            1    2019-04        4.6               1              1\n",
       "3            2    2019-02      133.4              29             29\n",
       "4            2    2019-03      174.0              41             41\n",
       "..         ...        ...        ...             ...            ...\n",
       "735        271    2019-03      699.6              96             96\n",
       "736        271    2019-04       28.0               5              5\n",
       "737        272    2019-02      385.3              47             47\n",
       "738        272    2019-03      421.9              51             51\n",
       "739        272    2019-04       36.2               5              5\n",
       "\n",
       "[740 rows x 5 columns]"
      ]
     },
     "execution_count": 899,
     "metadata": {},
     "output_type": "execute_result"
    }
   ],
   "source": [
    "trial_records"
   ]
  },
  {
   "cell_type": "code",
   "execution_count": 914,
   "id": "6973bacc-9d0b-4ed9-89f7-046223ee8b11",
   "metadata": {
    "tags": []
   },
   "outputs": [
    {
     "data": {
      "image/png": "[encoded data removed]",
      "text/plain": [
       "<Figure size 600x200 with 1 Axes>"
      ]
     },
     "metadata": {},
     "output_type": "display_data"
    },
    {
     "data": {
      "image/png": "[encoded data removed]",
      "text/plain": [
       "<Figure size 600x200 with 1 Axes>"
      ]
     },
     "metadata": {},
     "output_type": "display_data"
    },
    {
     "data": {
      "image/png": "[encoded data removed]",
      "text/plain": [
       "<Figure size 600x200 with 1 Axes>"
      ]
     },
     "metadata": {},
     "output_type": "display_data"
    }
   ],
   "source": [
    "comparison = trial_records[(trial_records['STORE_NBR'] == 77) | (trial_records['STORE_NBR'] == 233)]\n",
    "for metric in metrics:\n",
    "    plot_bar(metric)\n",
    "    warnings.simplefilter(action='ignore', category=FutureWarning)"
   ]
  },
  {
   "cell_type": "markdown",
   "id": "c47b6c80-a6d2-4e66-8a3d-66edf4425af8",
   "metadata": {},
   "source": [
    "We could see the significant increase customers visitations during the trial for trial stores comapring to the pre-trial records"
   ]
  },
  {
   "cell_type": "code",
   "execution_count": 915,
   "id": "cb76d366-a107-4b02-9d85-87bf923d4731",
   "metadata": {
    "tags": []
   },
   "outputs": [
    {
     "data": {
      "image/png": "[encoded data removed]",
      "text/plain": [
       "<Figure size 600x200 with 1 Axes>"
      ]
     },
     "metadata": {},
     "output_type": "display_data"
    },
    {
     "data": {
      "image/png": "[encoded data removed]",
      "text/plain": [
       "<Figure size 600x200 with 1 Axes>"
      ]
     },
     "metadata": {},
     "output_type": "display_data"
    },
    {
     "data": {
      "image/png": "[encoded data removed]",
      "text/plain": [
       "<Figure size 600x200 with 1 Axes>"
      ]
     },
     "metadata": {},
     "output_type": "display_data"
    }
   ],
   "source": [
    "comparison = trial_records[(trial_records['STORE_NBR'] == 88) | (trial_records['STORE_NBR'] == 237)]\n",
    "for metric in metrics:\n",
    "    plot_bar(metric)\n",
    "    warnings.simplefilter(action='ignore', category=FutureWarning)"
   ]
  },
  {
   "cell_type": "code",
   "execution_count": 916,
   "id": "b0009ece-e8d8-4f8f-8279-1edfb1a69860",
   "metadata": {
    "tags": []
   },
   "outputs": [
    {
     "data": {
      "image/png": "[encoded data removed]",
      "text/plain": [
       "<Figure size 600x200 with 1 Axes>"
      ]
     },
     "metadata": {},
     "output_type": "display_data"
    },
    {
     "data": {
      "image/png": "[encoded data removed]",
      "text/plain": [
       "<Figure size 600x200 with 1 Axes>"
      ]
     },
     "metadata": {},
     "output_type": "display_data"
    },
    {
     "data": {
      "image/png": "[encoded data removed]",
      "text/plain": [
       "<Figure size 600x200 with 1 Axes>"
      ]
     },
     "metadata": {},
     "output_type": "display_data"
    }
   ],
   "source": [
    "comparison = trial_records[(trial_records['STORE_NBR'] == 86) | (trial_records['STORE_NBR'] == 155)]\n",
    "for metric in metrics:\n",
    "    plot_bar(metric)\n",
    "    warnings.simplefilter(action='ignore', category=FutureWarning)"
   ]
  },
  {
   "cell_type": "code",
   "execution_count": null,
   "id": "f91e34bf-241a-42e1-b59d-760f562b904b",
   "metadata": {},
   "outputs": [],
   "source": []
  },
  {
   "cell_type": "code",
   "execution_count": null,
   "id": "c4e7cd34-9d00-40c1-90c5-21a043a14ecf",
   "metadata": {},
   "outputs": [],
   "source": []
  }
 ],
 "metadata": {
  "kernelspec": {
   "display_name": "Python 3 (ipykernel)",
   "language": "python",
   "name": "python3"
  },
  "language_info": {
   "codemirror_mode": {
    "name": "ipython",
    "version": 3
   },
   "file_extension": ".py",
   "mimetype": "text/x-python",
   "name": "python",
   "nbconvert_exporter": "python",
   "pygments_lexer": "ipython3",
   "version": "3.11.4"
  }
 },
 "nbformat": 4,
 "nbformat_minor": 5
}
